{
 "cells": [
  {
   "cell_type": "markdown",
   "metadata": {},
   "source": [
    "### Business Problem:\n",
    "\n",
    "A Retail store is required to analyze the day-to-day transactions and keep a track of its customers  spread across various locations along with their purchases/returns across various categories. \n",
    "\n",
    "Create a report and display the below calculated metrics, reports and inferences. \n"
   ]
  },
  {
   "cell_type": "markdown",
   "metadata": {},
   "source": [
    "### Importing Libraries"
   ]
  },
  {
   "cell_type": "code",
   "execution_count": 1,
   "metadata": {},
   "outputs": [],
   "source": [
    "import numpy as np\n",
    "import pandas as pd"
   ]
  },
  {
   "cell_type": "code",
   "execution_count": 2,
   "metadata": {},
   "outputs": [],
   "source": [
    "from matplotlib import pyplot as plt\n",
    "import seaborn as sns"
   ]
  },
  {
   "cell_type": "markdown",
   "metadata": {},
   "source": [
    "### Importing the data"
   ]
  },
  {
   "cell_type": "code",
   "execution_count": 3,
   "metadata": {
    "scrolled": true
   },
   "outputs": [
    {
     "data": {
      "text/html": [
       "<div>\n",
       "<style scoped>\n",
       "    .dataframe tbody tr th:only-of-type {\n",
       "        vertical-align: middle;\n",
       "    }\n",
       "\n",
       "    .dataframe tbody tr th {\n",
       "        vertical-align: top;\n",
       "    }\n",
       "\n",
       "    .dataframe thead th {\n",
       "        text-align: right;\n",
       "    }\n",
       "</style>\n",
       "<table border=\"1\" class=\"dataframe\">\n",
       "  <thead>\n",
       "    <tr style=\"text-align: right;\">\n",
       "      <th></th>\n",
       "      <th>customer_Id</th>\n",
       "      <th>DOB</th>\n",
       "      <th>Gender</th>\n",
       "      <th>city_code</th>\n",
       "    </tr>\n",
       "  </thead>\n",
       "  <tbody>\n",
       "    <tr>\n",
       "      <th>0</th>\n",
       "      <td>268408</td>\n",
       "      <td>02-01-1970</td>\n",
       "      <td>M</td>\n",
       "      <td>4.0</td>\n",
       "    </tr>\n",
       "    <tr>\n",
       "      <th>1</th>\n",
       "      <td>269696</td>\n",
       "      <td>07-01-1970</td>\n",
       "      <td>F</td>\n",
       "      <td>8.0</td>\n",
       "    </tr>\n",
       "    <tr>\n",
       "      <th>2</th>\n",
       "      <td>268159</td>\n",
       "      <td>08-01-1970</td>\n",
       "      <td>F</td>\n",
       "      <td>8.0</td>\n",
       "    </tr>\n",
       "    <tr>\n",
       "      <th>3</th>\n",
       "      <td>270181</td>\n",
       "      <td>10-01-1970</td>\n",
       "      <td>F</td>\n",
       "      <td>2.0</td>\n",
       "    </tr>\n",
       "    <tr>\n",
       "      <th>4</th>\n",
       "      <td>268073</td>\n",
       "      <td>11-01-1970</td>\n",
       "      <td>M</td>\n",
       "      <td>1.0</td>\n",
       "    </tr>\n",
       "  </tbody>\n",
       "</table>\n",
       "</div>"
      ],
      "text/plain": [
       "   customer_Id         DOB Gender  city_code\n",
       "0       268408  02-01-1970      M        4.0\n",
       "1       269696  07-01-1970      F        8.0\n",
       "2       268159  08-01-1970      F        8.0\n",
       "3       270181  10-01-1970      F        2.0\n",
       "4       268073  11-01-1970      M        1.0"
      ]
     },
     "execution_count": 3,
     "metadata": {},
     "output_type": "execute_result"
    }
   ],
   "source": [
    "customer = pd.read_csv('Customer.csv', sep=',')\n",
    "customer.head()"
   ]
  },
  {
   "cell_type": "code",
   "execution_count": 4,
   "metadata": {},
   "outputs": [
    {
     "data": {
      "text/html": [
       "<div>\n",
       "<style scoped>\n",
       "    .dataframe tbody tr th:only-of-type {\n",
       "        vertical-align: middle;\n",
       "    }\n",
       "\n",
       "    .dataframe tbody tr th {\n",
       "        vertical-align: top;\n",
       "    }\n",
       "\n",
       "    .dataframe thead th {\n",
       "        text-align: right;\n",
       "    }\n",
       "</style>\n",
       "<table border=\"1\" class=\"dataframe\">\n",
       "  <thead>\n",
       "    <tr style=\"text-align: right;\">\n",
       "      <th></th>\n",
       "      <th>transaction_id</th>\n",
       "      <th>cust_id</th>\n",
       "      <th>tran_date</th>\n",
       "      <th>prod_subcat_code</th>\n",
       "      <th>prod_cat_code</th>\n",
       "      <th>Qty</th>\n",
       "      <th>Rate</th>\n",
       "      <th>Tax</th>\n",
       "      <th>total_amt</th>\n",
       "      <th>Store_type</th>\n",
       "    </tr>\n",
       "  </thead>\n",
       "  <tbody>\n",
       "    <tr>\n",
       "      <th>0</th>\n",
       "      <td>80712190438</td>\n",
       "      <td>270351</td>\n",
       "      <td>28-02-2014</td>\n",
       "      <td>1</td>\n",
       "      <td>1</td>\n",
       "      <td>-5</td>\n",
       "      <td>-772</td>\n",
       "      <td>405.300</td>\n",
       "      <td>-4265.300</td>\n",
       "      <td>e-Shop</td>\n",
       "    </tr>\n",
       "    <tr>\n",
       "      <th>1</th>\n",
       "      <td>29258453508</td>\n",
       "      <td>270384</td>\n",
       "      <td>27-02-2014</td>\n",
       "      <td>5</td>\n",
       "      <td>3</td>\n",
       "      <td>-5</td>\n",
       "      <td>-1497</td>\n",
       "      <td>785.925</td>\n",
       "      <td>-8270.925</td>\n",
       "      <td>e-Shop</td>\n",
       "    </tr>\n",
       "    <tr>\n",
       "      <th>2</th>\n",
       "      <td>51750724947</td>\n",
       "      <td>273420</td>\n",
       "      <td>24-02-2014</td>\n",
       "      <td>6</td>\n",
       "      <td>5</td>\n",
       "      <td>-2</td>\n",
       "      <td>-791</td>\n",
       "      <td>166.110</td>\n",
       "      <td>-1748.110</td>\n",
       "      <td>TeleShop</td>\n",
       "    </tr>\n",
       "    <tr>\n",
       "      <th>3</th>\n",
       "      <td>93274880719</td>\n",
       "      <td>271509</td>\n",
       "      <td>24-02-2014</td>\n",
       "      <td>11</td>\n",
       "      <td>6</td>\n",
       "      <td>-3</td>\n",
       "      <td>-1363</td>\n",
       "      <td>429.345</td>\n",
       "      <td>-4518.345</td>\n",
       "      <td>e-Shop</td>\n",
       "    </tr>\n",
       "    <tr>\n",
       "      <th>4</th>\n",
       "      <td>51750724947</td>\n",
       "      <td>273420</td>\n",
       "      <td>23-02-2014</td>\n",
       "      <td>6</td>\n",
       "      <td>5</td>\n",
       "      <td>-2</td>\n",
       "      <td>-791</td>\n",
       "      <td>166.110</td>\n",
       "      <td>-1748.110</td>\n",
       "      <td>TeleShop</td>\n",
       "    </tr>\n",
       "  </tbody>\n",
       "</table>\n",
       "</div>"
      ],
      "text/plain": [
       "   transaction_id  cust_id   tran_date  prod_subcat_code  prod_cat_code  Qty  \\\n",
       "0     80712190438   270351  28-02-2014                 1              1   -5   \n",
       "1     29258453508   270384  27-02-2014                 5              3   -5   \n",
       "2     51750724947   273420  24-02-2014                 6              5   -2   \n",
       "3     93274880719   271509  24-02-2014                11              6   -3   \n",
       "4     51750724947   273420  23-02-2014                 6              5   -2   \n",
       "\n",
       "   Rate      Tax  total_amt Store_type  \n",
       "0  -772  405.300  -4265.300     e-Shop  \n",
       "1 -1497  785.925  -8270.925     e-Shop  \n",
       "2  -791  166.110  -1748.110   TeleShop  \n",
       "3 -1363  429.345  -4518.345     e-Shop  \n",
       "4  -791  166.110  -1748.110   TeleShop  "
      ]
     },
     "execution_count": 4,
     "metadata": {},
     "output_type": "execute_result"
    }
   ],
   "source": [
    "txn = pd.read_csv('Transactions.csv', sep=',')\n",
    "txn.head()"
   ]
  },
  {
   "cell_type": "code",
   "execution_count": 6,
   "metadata": {},
   "outputs": [
    {
     "data": {
      "text/html": [
       "<div>\n",
       "<style scoped>\n",
       "    .dataframe tbody tr th:only-of-type {\n",
       "        vertical-align: middle;\n",
       "    }\n",
       "\n",
       "    .dataframe tbody tr th {\n",
       "        vertical-align: top;\n",
       "    }\n",
       "\n",
       "    .dataframe thead th {\n",
       "        text-align: right;\n",
       "    }\n",
       "</style>\n",
       "<table border=\"1\" class=\"dataframe\">\n",
       "  <thead>\n",
       "    <tr style=\"text-align: right;\">\n",
       "      <th></th>\n",
       "      <th>prod_cat_code</th>\n",
       "      <th>prod_cat</th>\n",
       "      <th>prod_sub_cat_code</th>\n",
       "      <th>prod_subcat</th>\n",
       "    </tr>\n",
       "  </thead>\n",
       "  <tbody>\n",
       "    <tr>\n",
       "      <th>0</th>\n",
       "      <td>1</td>\n",
       "      <td>Clothing</td>\n",
       "      <td>4</td>\n",
       "      <td>Mens</td>\n",
       "    </tr>\n",
       "    <tr>\n",
       "      <th>1</th>\n",
       "      <td>1</td>\n",
       "      <td>Clothing</td>\n",
       "      <td>1</td>\n",
       "      <td>Women</td>\n",
       "    </tr>\n",
       "    <tr>\n",
       "      <th>2</th>\n",
       "      <td>1</td>\n",
       "      <td>Clothing</td>\n",
       "      <td>3</td>\n",
       "      <td>Kids</td>\n",
       "    </tr>\n",
       "    <tr>\n",
       "      <th>3</th>\n",
       "      <td>2</td>\n",
       "      <td>Footwear</td>\n",
       "      <td>1</td>\n",
       "      <td>Mens</td>\n",
       "    </tr>\n",
       "    <tr>\n",
       "      <th>4</th>\n",
       "      <td>2</td>\n",
       "      <td>Footwear</td>\n",
       "      <td>3</td>\n",
       "      <td>Women</td>\n",
       "    </tr>\n",
       "  </tbody>\n",
       "</table>\n",
       "</div>"
      ],
      "text/plain": [
       "   prod_cat_code  prod_cat  prod_sub_cat_code prod_subcat\n",
       "0              1  Clothing                  4        Mens\n",
       "1              1  Clothing                  1       Women\n",
       "2              1  Clothing                  3        Kids\n",
       "3              2  Footwear                  1        Mens\n",
       "4              2  Footwear                  3       Women"
      ]
     },
     "execution_count": 6,
     "metadata": {},
     "output_type": "execute_result"
    }
   ],
   "source": [
    "product = pd.read_csv('prod_cat_info.csv', sep=',')\n",
    "product.head()"
   ]
  },
  {
   "cell_type": "markdown",
   "metadata": {},
   "source": [
    "#### Shape of all the three data sets:"
   ]
  },
  {
   "cell_type": "code",
   "execution_count": 7,
   "metadata": {},
   "outputs": [
    {
     "data": {
      "text/plain": [
       "(5647, 4)"
      ]
     },
     "execution_count": 7,
     "metadata": {},
     "output_type": "execute_result"
    }
   ],
   "source": [
    "customer.shape"
   ]
  },
  {
   "cell_type": "code",
   "execution_count": 8,
   "metadata": {},
   "outputs": [
    {
     "data": {
      "text/plain": [
       "(23053, 10)"
      ]
     },
     "execution_count": 8,
     "metadata": {},
     "output_type": "execute_result"
    }
   ],
   "source": [
    "txn.shape"
   ]
  },
  {
   "cell_type": "code",
   "execution_count": 9,
   "metadata": {},
   "outputs": [
    {
     "data": {
      "text/plain": [
       "(23, 4)"
      ]
     },
     "execution_count": 9,
     "metadata": {},
     "output_type": "execute_result"
    }
   ],
   "source": [
    "product.shape"
   ]
  },
  {
   "cell_type": "markdown",
   "metadata": {},
   "source": [
    "### Ques1.\n",
    "Merge the datasets Customers, Product Hierarchy and Transactions as Customer_Final. Ensure to\n",
    "keep all customers who have done transactions with us and select the join type accordingly.\n"
   ]
  },
  {
   "cell_type": "code",
   "execution_count": 10,
   "metadata": {},
   "outputs": [],
   "source": [
    "# Step 1: Merge Customer & txn Dfs on the basis of customer_ID and cust_id and create customer_txn\n",
    "\n",
    "cust_txn = pd.merge(left = customer, right = txn, \n",
    "                    left_on =['customer_Id'], right_on=['cust_id'])"
   ]
  },
  {
   "cell_type": "code",
   "execution_count": 11,
   "metadata": {},
   "outputs": [
    {
     "data": {
      "text/html": [
       "<div>\n",
       "<style scoped>\n",
       "    .dataframe tbody tr th:only-of-type {\n",
       "        vertical-align: middle;\n",
       "    }\n",
       "\n",
       "    .dataframe tbody tr th {\n",
       "        vertical-align: top;\n",
       "    }\n",
       "\n",
       "    .dataframe thead th {\n",
       "        text-align: right;\n",
       "    }\n",
       "</style>\n",
       "<table border=\"1\" class=\"dataframe\">\n",
       "  <thead>\n",
       "    <tr style=\"text-align: right;\">\n",
       "      <th></th>\n",
       "      <th>customer_Id</th>\n",
       "      <th>DOB</th>\n",
       "      <th>Gender</th>\n",
       "      <th>city_code</th>\n",
       "      <th>transaction_id</th>\n",
       "      <th>cust_id</th>\n",
       "      <th>tran_date</th>\n",
       "      <th>prod_subcat_code</th>\n",
       "      <th>prod_cat_code</th>\n",
       "      <th>Qty</th>\n",
       "      <th>Rate</th>\n",
       "      <th>Tax</th>\n",
       "      <th>total_amt</th>\n",
       "      <th>Store_type</th>\n",
       "    </tr>\n",
       "  </thead>\n",
       "  <tbody>\n",
       "    <tr>\n",
       "      <th>0</th>\n",
       "      <td>268408</td>\n",
       "      <td>02-01-1970</td>\n",
       "      <td>M</td>\n",
       "      <td>4.0</td>\n",
       "      <td>87243835584</td>\n",
       "      <td>268408</td>\n",
       "      <td>13-01-2014</td>\n",
       "      <td>7</td>\n",
       "      <td>5</td>\n",
       "      <td>5</td>\n",
       "      <td>187</td>\n",
       "      <td>98.175</td>\n",
       "      <td>1033.175</td>\n",
       "      <td>TeleShop</td>\n",
       "    </tr>\n",
       "    <tr>\n",
       "      <th>1</th>\n",
       "      <td>268408</td>\n",
       "      <td>02-01-1970</td>\n",
       "      <td>M</td>\n",
       "      <td>4.0</td>\n",
       "      <td>16197868036</td>\n",
       "      <td>268408</td>\n",
       "      <td>16-12-2013</td>\n",
       "      <td>1</td>\n",
       "      <td>4</td>\n",
       "      <td>-5</td>\n",
       "      <td>-210</td>\n",
       "      <td>110.250</td>\n",
       "      <td>-1160.250</td>\n",
       "      <td>Flagship store</td>\n",
       "    </tr>\n",
       "  </tbody>\n",
       "</table>\n",
       "</div>"
      ],
      "text/plain": [
       "   customer_Id         DOB Gender  city_code  transaction_id  cust_id  \\\n",
       "0       268408  02-01-1970      M        4.0     87243835584   268408   \n",
       "1       268408  02-01-1970      M        4.0     16197868036   268408   \n",
       "\n",
       "    tran_date  prod_subcat_code  prod_cat_code  Qty  Rate      Tax  total_amt  \\\n",
       "0  13-01-2014                 7              5    5   187   98.175   1033.175   \n",
       "1  16-12-2013                 1              4   -5  -210  110.250  -1160.250   \n",
       "\n",
       "       Store_type  \n",
       "0        TeleShop  \n",
       "1  Flagship store  "
      ]
     },
     "execution_count": 11,
     "metadata": {},
     "output_type": "execute_result"
    }
   ],
   "source": [
    "cust_txn.head(2)"
   ]
  },
  {
   "cell_type": "code",
   "execution_count": 12,
   "metadata": {},
   "outputs": [],
   "source": [
    "# Renaming cols in the product Df\n",
    "\n",
    "product.rename(columns = {'prod_sub_cat_code': 'prod_subcat_code'}, inplace=True)"
   ]
  },
  {
   "cell_type": "code",
   "execution_count": 13,
   "metadata": {},
   "outputs": [
    {
     "data": {
      "text/html": [
       "<div>\n",
       "<style scoped>\n",
       "    .dataframe tbody tr th:only-of-type {\n",
       "        vertical-align: middle;\n",
       "    }\n",
       "\n",
       "    .dataframe tbody tr th {\n",
       "        vertical-align: top;\n",
       "    }\n",
       "\n",
       "    .dataframe thead th {\n",
       "        text-align: right;\n",
       "    }\n",
       "</style>\n",
       "<table border=\"1\" class=\"dataframe\">\n",
       "  <thead>\n",
       "    <tr style=\"text-align: right;\">\n",
       "      <th></th>\n",
       "      <th>prod_cat_code</th>\n",
       "      <th>prod_cat</th>\n",
       "      <th>prod_subcat_code</th>\n",
       "      <th>prod_subcat</th>\n",
       "    </tr>\n",
       "  </thead>\n",
       "  <tbody>\n",
       "    <tr>\n",
       "      <th>0</th>\n",
       "      <td>1</td>\n",
       "      <td>Clothing</td>\n",
       "      <td>4</td>\n",
       "      <td>Mens</td>\n",
       "    </tr>\n",
       "    <tr>\n",
       "      <th>1</th>\n",
       "      <td>1</td>\n",
       "      <td>Clothing</td>\n",
       "      <td>1</td>\n",
       "      <td>Women</td>\n",
       "    </tr>\n",
       "    <tr>\n",
       "      <th>2</th>\n",
       "      <td>1</td>\n",
       "      <td>Clothing</td>\n",
       "      <td>3</td>\n",
       "      <td>Kids</td>\n",
       "    </tr>\n",
       "    <tr>\n",
       "      <th>3</th>\n",
       "      <td>2</td>\n",
       "      <td>Footwear</td>\n",
       "      <td>1</td>\n",
       "      <td>Mens</td>\n",
       "    </tr>\n",
       "    <tr>\n",
       "      <th>4</th>\n",
       "      <td>2</td>\n",
       "      <td>Footwear</td>\n",
       "      <td>3</td>\n",
       "      <td>Women</td>\n",
       "    </tr>\n",
       "  </tbody>\n",
       "</table>\n",
       "</div>"
      ],
      "text/plain": [
       "   prod_cat_code  prod_cat  prod_subcat_code prod_subcat\n",
       "0              1  Clothing                 4        Mens\n",
       "1              1  Clothing                 1       Women\n",
       "2              1  Clothing                 3        Kids\n",
       "3              2  Footwear                 1        Mens\n",
       "4              2  Footwear                 3       Women"
      ]
     },
     "execution_count": 13,
     "metadata": {},
     "output_type": "execute_result"
    }
   ],
   "source": [
    "product.head()"
   ]
  },
  {
   "cell_type": "code",
   "execution_count": 14,
   "metadata": {},
   "outputs": [],
   "source": [
    "#Step 2: Merge customer_txn & product df on the basis of prod_cat_code & prod_subcat_code table & create customer_final:\n",
    "\n",
    "customer_final = pd.merge(left = cust_txn, right = product,\n",
    "                         on = ['prod_cat_code', 'prod_subcat_code'])"
   ]
  },
  {
   "cell_type": "code",
   "execution_count": 15,
   "metadata": {},
   "outputs": [
    {
     "data": {
      "text/plain": [
       "(23053, 16)"
      ]
     },
     "execution_count": 15,
     "metadata": {},
     "output_type": "execute_result"
    }
   ],
   "source": [
    "customer_final.shape"
   ]
  },
  {
   "cell_type": "code",
   "execution_count": 16,
   "metadata": {},
   "outputs": [
    {
     "data": {
      "text/html": [
       "<div>\n",
       "<style scoped>\n",
       "    .dataframe tbody tr th:only-of-type {\n",
       "        vertical-align: middle;\n",
       "    }\n",
       "\n",
       "    .dataframe tbody tr th {\n",
       "        vertical-align: top;\n",
       "    }\n",
       "\n",
       "    .dataframe thead th {\n",
       "        text-align: right;\n",
       "    }\n",
       "</style>\n",
       "<table border=\"1\" class=\"dataframe\">\n",
       "  <thead>\n",
       "    <tr style=\"text-align: right;\">\n",
       "      <th></th>\n",
       "      <th>customer_Id</th>\n",
       "      <th>DOB</th>\n",
       "      <th>Gender</th>\n",
       "      <th>city_code</th>\n",
       "      <th>transaction_id</th>\n",
       "      <th>cust_id</th>\n",
       "      <th>tran_date</th>\n",
       "      <th>prod_subcat_code</th>\n",
       "      <th>prod_cat_code</th>\n",
       "      <th>Qty</th>\n",
       "      <th>Rate</th>\n",
       "      <th>Tax</th>\n",
       "      <th>total_amt</th>\n",
       "      <th>Store_type</th>\n",
       "      <th>prod_cat</th>\n",
       "      <th>prod_subcat</th>\n",
       "    </tr>\n",
       "  </thead>\n",
       "  <tbody>\n",
       "    <tr>\n",
       "      <th>0</th>\n",
       "      <td>268408</td>\n",
       "      <td>02-01-1970</td>\n",
       "      <td>M</td>\n",
       "      <td>4.0</td>\n",
       "      <td>87243835584</td>\n",
       "      <td>268408</td>\n",
       "      <td>13-01-2014</td>\n",
       "      <td>7</td>\n",
       "      <td>5</td>\n",
       "      <td>5</td>\n",
       "      <td>187</td>\n",
       "      <td>98.175</td>\n",
       "      <td>1033.175</td>\n",
       "      <td>TeleShop</td>\n",
       "      <td>Books</td>\n",
       "      <td>Fiction</td>\n",
       "    </tr>\n",
       "    <tr>\n",
       "      <th>1</th>\n",
       "      <td>275152</td>\n",
       "      <td>16-01-1970</td>\n",
       "      <td>M</td>\n",
       "      <td>4.0</td>\n",
       "      <td>73109425404</td>\n",
       "      <td>275152</td>\n",
       "      <td>25-03-2011</td>\n",
       "      <td>7</td>\n",
       "      <td>5</td>\n",
       "      <td>2</td>\n",
       "      <td>464</td>\n",
       "      <td>97.440</td>\n",
       "      <td>1025.440</td>\n",
       "      <td>e-Shop</td>\n",
       "      <td>Books</td>\n",
       "      <td>Fiction</td>\n",
       "    </tr>\n",
       "  </tbody>\n",
       "</table>\n",
       "</div>"
      ],
      "text/plain": [
       "   customer_Id         DOB Gender  city_code  transaction_id  cust_id  \\\n",
       "0       268408  02-01-1970      M        4.0     87243835584   268408   \n",
       "1       275152  16-01-1970      M        4.0     73109425404   275152   \n",
       "\n",
       "    tran_date  prod_subcat_code  prod_cat_code  Qty  Rate     Tax  total_amt  \\\n",
       "0  13-01-2014                 7              5    5   187  98.175   1033.175   \n",
       "1  25-03-2011                 7              5    2   464  97.440   1025.440   \n",
       "\n",
       "  Store_type prod_cat prod_subcat  \n",
       "0   TeleShop    Books     Fiction  \n",
       "1     e-Shop    Books     Fiction  "
      ]
     },
     "execution_count": 16,
     "metadata": {},
     "output_type": "execute_result"
    }
   ],
   "source": [
    "customer_final.head(2)"
   ]
  },
  {
   "cell_type": "code",
   "execution_count": 17,
   "metadata": {},
   "outputs": [],
   "source": [
    "## Converting DOB and tran_date to DateTime dtype\n",
    "\n",
    "customer_final.DOB = pd.to_datetime(customer_final.DOB, format = '%d-%m-%Y')"
   ]
  },
  {
   "cell_type": "code",
   "execution_count": 18,
   "metadata": {},
   "outputs": [
    {
     "data": {
      "text/plain": [
       "0       1970-01-02\n",
       "1       1970-01-16\n",
       "2       1970-01-18\n",
       "3       1970-01-22\n",
       "4       1970-01-29\n",
       "           ...    \n",
       "23048   1992-12-04\n",
       "23049   1992-12-09\n",
       "23050   1992-12-15\n",
       "23051   1992-12-15\n",
       "23052   1992-12-15\n",
       "Name: DOB, Length: 23053, dtype: datetime64[ns]"
      ]
     },
     "execution_count": 18,
     "metadata": {},
     "output_type": "execute_result"
    }
   ],
   "source": [
    "customer_final.DOB "
   ]
  },
  {
   "cell_type": "code",
   "execution_count": 19,
   "metadata": {},
   "outputs": [],
   "source": [
    "customer_final.tran_date = pd.to_datetime(customer_final.tran_date, format ='%d-%m-%Y', exact=False, errors='ignore')\n",
    "customer_final.tran_date = pd.to_datetime(customer_final.tran_date, format = '%d/%m/%Y', exact=False, errors='ignore')\n",
    "customer_final.tran_date = customer_final.tran_date.apply(pd.to_datetime, errors='coerce')"
   ]
  },
  {
   "cell_type": "code",
   "execution_count": 20,
   "metadata": {},
   "outputs": [],
   "source": [
    "customer_final.tran_date = pd.to_datetime(customer_final.tran_date, format = '%d/%m/%Y', exact=False, errors='ignore')"
   ]
  },
  {
   "cell_type": "code",
   "execution_count": 21,
   "metadata": {},
   "outputs": [],
   "source": [
    "customer_final.tran_date = customer_final.tran_date.apply(pd.to_datetime, errors='coerce')"
   ]
  },
  {
   "cell_type": "code",
   "execution_count": 22,
   "metadata": {},
   "outputs": [
    {
     "data": {
      "text/plain": [
       "0       2014-01-13\n",
       "1       2011-03-25\n",
       "2       2011-05-23\n",
       "3       2013-09-12\n",
       "4       2013-05-23\n",
       "           ...    \n",
       "23048   2012-10-10\n",
       "23049   2013-08-17\n",
       "23050   2012-01-02\n",
       "23051   2011-01-31\n",
       "23052   2011-01-26\n",
       "Name: tran_date, Length: 23053, dtype: datetime64[ns]"
      ]
     },
     "execution_count": 22,
     "metadata": {},
     "output_type": "execute_result"
    }
   ],
   "source": [
    "customer_final.tran_date"
   ]
  },
  {
   "cell_type": "code",
   "execution_count": 23,
   "metadata": {},
   "outputs": [
    {
     "data": {
      "text/plain": [
       "customer_Id         0\n",
       "DOB                 0\n",
       "Gender              9\n",
       "city_code           8\n",
       "transaction_id      0\n",
       "cust_id             0\n",
       "tran_date           0\n",
       "prod_subcat_code    0\n",
       "prod_cat_code       0\n",
       "Qty                 0\n",
       "Rate                0\n",
       "Tax                 0\n",
       "total_amt           0\n",
       "Store_type          0\n",
       "prod_cat            0\n",
       "prod_subcat         0\n",
       "dtype: int64"
      ]
     },
     "execution_count": 23,
     "metadata": {},
     "output_type": "execute_result"
    }
   ],
   "source": [
    "# checking for null values\n",
    "customer_final.isnull().sum()"
   ]
  },
  {
   "cell_type": "code",
   "execution_count": 24,
   "metadata": {},
   "outputs": [
    {
     "data": {
      "text/html": [
       "<div>\n",
       "<style scoped>\n",
       "    .dataframe tbody tr th:only-of-type {\n",
       "        vertical-align: middle;\n",
       "    }\n",
       "\n",
       "    .dataframe tbody tr th {\n",
       "        vertical-align: top;\n",
       "    }\n",
       "\n",
       "    .dataframe thead th {\n",
       "        text-align: right;\n",
       "    }\n",
       "</style>\n",
       "<table border=\"1\" class=\"dataframe\">\n",
       "  <thead>\n",
       "    <tr style=\"text-align: right;\">\n",
       "      <th></th>\n",
       "      <th>customer_Id</th>\n",
       "      <th>DOB</th>\n",
       "      <th>Gender</th>\n",
       "      <th>city_code</th>\n",
       "      <th>transaction_id</th>\n",
       "      <th>cust_id</th>\n",
       "      <th>tran_date</th>\n",
       "      <th>prod_subcat_code</th>\n",
       "      <th>prod_cat_code</th>\n",
       "      <th>Qty</th>\n",
       "      <th>Rate</th>\n",
       "      <th>Tax</th>\n",
       "      <th>total_amt</th>\n",
       "      <th>Store_type</th>\n",
       "      <th>prod_cat</th>\n",
       "      <th>prod_subcat</th>\n",
       "    </tr>\n",
       "  </thead>\n",
       "  <tbody>\n",
       "    <tr>\n",
       "      <th>2661</th>\n",
       "      <td>269016</td>\n",
       "      <td>1983-03-12</td>\n",
       "      <td>F</td>\n",
       "      <td>8.0</td>\n",
       "      <td>63833750229</td>\n",
       "      <td>269016</td>\n",
       "      <td>2013-09-19</td>\n",
       "      <td>10</td>\n",
       "      <td>6</td>\n",
       "      <td>-3</td>\n",
       "      <td>-460</td>\n",
       "      <td>144.900</td>\n",
       "      <td>-1524.900</td>\n",
       "      <td>TeleShop</td>\n",
       "      <td>Home and kitchen</td>\n",
       "      <td>Kitchen</td>\n",
       "    </tr>\n",
       "    <tr>\n",
       "      <th>5083</th>\n",
       "      <td>273106</td>\n",
       "      <td>1970-03-23</td>\n",
       "      <td>F</td>\n",
       "      <td>2.0</td>\n",
       "      <td>426787191</td>\n",
       "      <td>273106</td>\n",
       "      <td>2012-05-28</td>\n",
       "      <td>1</td>\n",
       "      <td>2</td>\n",
       "      <td>-5</td>\n",
       "      <td>-109</td>\n",
       "      <td>57.225</td>\n",
       "      <td>-602.225</td>\n",
       "      <td>e-Shop</td>\n",
       "      <td>Footwear</td>\n",
       "      <td>Mens</td>\n",
       "    </tr>\n",
       "    <tr>\n",
       "      <th>5489</th>\n",
       "      <td>272584</td>\n",
       "      <td>1979-12-20</td>\n",
       "      <td>M</td>\n",
       "      <td>2.0</td>\n",
       "      <td>93088859112</td>\n",
       "      <td>272584</td>\n",
       "      <td>2012-04-11</td>\n",
       "      <td>1</td>\n",
       "      <td>2</td>\n",
       "      <td>-1</td>\n",
       "      <td>-1168</td>\n",
       "      <td>122.640</td>\n",
       "      <td>-1290.640</td>\n",
       "      <td>e-Shop</td>\n",
       "      <td>Footwear</td>\n",
       "      <td>Mens</td>\n",
       "    </tr>\n",
       "    <tr>\n",
       "      <th>7637</th>\n",
       "      <td>267939</td>\n",
       "      <td>1985-03-18</td>\n",
       "      <td>F</td>\n",
       "      <td>1.0</td>\n",
       "      <td>43292728137</td>\n",
       "      <td>267939</td>\n",
       "      <td>2011-03-07</td>\n",
       "      <td>4</td>\n",
       "      <td>4</td>\n",
       "      <td>-2</td>\n",
       "      <td>-739</td>\n",
       "      <td>155.190</td>\n",
       "      <td>-1633.190</td>\n",
       "      <td>e-Shop</td>\n",
       "      <td>Bags</td>\n",
       "      <td>Women</td>\n",
       "    </tr>\n",
       "    <tr>\n",
       "      <th>9519</th>\n",
       "      <td>270330</td>\n",
       "      <td>1981-07-13</td>\n",
       "      <td>M</td>\n",
       "      <td>3.0</td>\n",
       "      <td>48727689115</td>\n",
       "      <td>270330</td>\n",
       "      <td>2012-10-21</td>\n",
       "      <td>4</td>\n",
       "      <td>3</td>\n",
       "      <td>-4</td>\n",
       "      <td>-1158</td>\n",
       "      <td>486.360</td>\n",
       "      <td>-5118.360</td>\n",
       "      <td>TeleShop</td>\n",
       "      <td>Electronics</td>\n",
       "      <td>Mobiles</td>\n",
       "    </tr>\n",
       "    <tr>\n",
       "      <th>12760</th>\n",
       "      <td>274656</td>\n",
       "      <td>1987-02-03</td>\n",
       "      <td>M</td>\n",
       "      <td>5.0</td>\n",
       "      <td>54818572958</td>\n",
       "      <td>274656</td>\n",
       "      <td>2013-07-19</td>\n",
       "      <td>11</td>\n",
       "      <td>6</td>\n",
       "      <td>-5</td>\n",
       "      <td>-662</td>\n",
       "      <td>347.550</td>\n",
       "      <td>-3657.550</td>\n",
       "      <td>e-Shop</td>\n",
       "      <td>Home and kitchen</td>\n",
       "      <td>Bath</td>\n",
       "    </tr>\n",
       "    <tr>\n",
       "      <th>13301</th>\n",
       "      <td>273937</td>\n",
       "      <td>1975-11-19</td>\n",
       "      <td>M</td>\n",
       "      <td>5.0</td>\n",
       "      <td>95523406151</td>\n",
       "      <td>273937</td>\n",
       "      <td>2012-09-16</td>\n",
       "      <td>8</td>\n",
       "      <td>3</td>\n",
       "      <td>-5</td>\n",
       "      <td>-483</td>\n",
       "      <td>253.575</td>\n",
       "      <td>-2668.575</td>\n",
       "      <td>e-Shop</td>\n",
       "      <td>Electronics</td>\n",
       "      <td>Personal Appliances</td>\n",
       "    </tr>\n",
       "    <tr>\n",
       "      <th>13917</th>\n",
       "      <td>266852</td>\n",
       "      <td>1990-01-15</td>\n",
       "      <td>M</td>\n",
       "      <td>5.0</td>\n",
       "      <td>4170892941</td>\n",
       "      <td>266852</td>\n",
       "      <td>2011-12-21</td>\n",
       "      <td>8</td>\n",
       "      <td>3</td>\n",
       "      <td>-1</td>\n",
       "      <td>-412</td>\n",
       "      <td>43.260</td>\n",
       "      <td>-455.260</td>\n",
       "      <td>MBR</td>\n",
       "      <td>Electronics</td>\n",
       "      <td>Personal Appliances</td>\n",
       "    </tr>\n",
       "    <tr>\n",
       "      <th>14640</th>\n",
       "      <td>270202</td>\n",
       "      <td>1985-07-18</td>\n",
       "      <td>F</td>\n",
       "      <td>9.0</td>\n",
       "      <td>42255136382</td>\n",
       "      <td>270202</td>\n",
       "      <td>2012-08-25</td>\n",
       "      <td>12</td>\n",
       "      <td>5</td>\n",
       "      <td>-4</td>\n",
       "      <td>-841</td>\n",
       "      <td>353.220</td>\n",
       "      <td>-3717.220</td>\n",
       "      <td>e-Shop</td>\n",
       "      <td>Books</td>\n",
       "      <td>Academic</td>\n",
       "    </tr>\n",
       "    <tr>\n",
       "      <th>16967</th>\n",
       "      <td>274748</td>\n",
       "      <td>1991-06-22</td>\n",
       "      <td>M</td>\n",
       "      <td>1.0</td>\n",
       "      <td>44125492691</td>\n",
       "      <td>274748</td>\n",
       "      <td>2011-12-19</td>\n",
       "      <td>3</td>\n",
       "      <td>2</td>\n",
       "      <td>-5</td>\n",
       "      <td>-767</td>\n",
       "      <td>402.675</td>\n",
       "      <td>-4237.675</td>\n",
       "      <td>e-Shop</td>\n",
       "      <td>Footwear</td>\n",
       "      <td>Women</td>\n",
       "    </tr>\n",
       "    <tr>\n",
       "      <th>19230</th>\n",
       "      <td>268663</td>\n",
       "      <td>1975-05-17</td>\n",
       "      <td>F</td>\n",
       "      <td>8.0</td>\n",
       "      <td>84298959416</td>\n",
       "      <td>268663</td>\n",
       "      <td>2012-04-22</td>\n",
       "      <td>3</td>\n",
       "      <td>5</td>\n",
       "      <td>-2</td>\n",
       "      <td>-321</td>\n",
       "      <td>67.410</td>\n",
       "      <td>-709.410</td>\n",
       "      <td>TeleShop</td>\n",
       "      <td>Books</td>\n",
       "      <td>Comics</td>\n",
       "    </tr>\n",
       "    <tr>\n",
       "      <th>20397</th>\n",
       "      <td>270229</td>\n",
       "      <td>1977-12-01</td>\n",
       "      <td>M</td>\n",
       "      <td>9.0</td>\n",
       "      <td>68625357665</td>\n",
       "      <td>270229</td>\n",
       "      <td>2012-04-24</td>\n",
       "      <td>12</td>\n",
       "      <td>6</td>\n",
       "      <td>-5</td>\n",
       "      <td>-79</td>\n",
       "      <td>41.475</td>\n",
       "      <td>-436.475</td>\n",
       "      <td>Flagship store</td>\n",
       "      <td>Home and kitchen</td>\n",
       "      <td>Tools</td>\n",
       "    </tr>\n",
       "    <tr>\n",
       "      <th>22708</th>\n",
       "      <td>267939</td>\n",
       "      <td>1985-03-18</td>\n",
       "      <td>F</td>\n",
       "      <td>1.0</td>\n",
       "      <td>98271941861</td>\n",
       "      <td>267939</td>\n",
       "      <td>2011-06-29</td>\n",
       "      <td>10</td>\n",
       "      <td>5</td>\n",
       "      <td>-4</td>\n",
       "      <td>-1238</td>\n",
       "      <td>519.960</td>\n",
       "      <td>-5471.960</td>\n",
       "      <td>Flagship store</td>\n",
       "      <td>Books</td>\n",
       "      <td>Non-Fiction</td>\n",
       "    </tr>\n",
       "  </tbody>\n",
       "</table>\n",
       "</div>"
      ],
      "text/plain": [
       "       customer_Id        DOB Gender  city_code  transaction_id  cust_id  \\\n",
       "2661        269016 1983-03-12      F        8.0     63833750229   269016   \n",
       "5083        273106 1970-03-23      F        2.0       426787191   273106   \n",
       "5489        272584 1979-12-20      M        2.0     93088859112   272584   \n",
       "7637        267939 1985-03-18      F        1.0     43292728137   267939   \n",
       "9519        270330 1981-07-13      M        3.0     48727689115   270330   \n",
       "12760       274656 1987-02-03      M        5.0     54818572958   274656   \n",
       "13301       273937 1975-11-19      M        5.0     95523406151   273937   \n",
       "13917       266852 1990-01-15      M        5.0      4170892941   266852   \n",
       "14640       270202 1985-07-18      F        9.0     42255136382   270202   \n",
       "16967       274748 1991-06-22      M        1.0     44125492691   274748   \n",
       "19230       268663 1975-05-17      F        8.0     84298959416   268663   \n",
       "20397       270229 1977-12-01      M        9.0     68625357665   270229   \n",
       "22708       267939 1985-03-18      F        1.0     98271941861   267939   \n",
       "\n",
       "       tran_date  prod_subcat_code  prod_cat_code  Qty  Rate      Tax  \\\n",
       "2661  2013-09-19                10              6   -3  -460  144.900   \n",
       "5083  2012-05-28                 1              2   -5  -109   57.225   \n",
       "5489  2012-04-11                 1              2   -1 -1168  122.640   \n",
       "7637  2011-03-07                 4              4   -2  -739  155.190   \n",
       "9519  2012-10-21                 4              3   -4 -1158  486.360   \n",
       "12760 2013-07-19                11              6   -5  -662  347.550   \n",
       "13301 2012-09-16                 8              3   -5  -483  253.575   \n",
       "13917 2011-12-21                 8              3   -1  -412   43.260   \n",
       "14640 2012-08-25                12              5   -4  -841  353.220   \n",
       "16967 2011-12-19                 3              2   -5  -767  402.675   \n",
       "19230 2012-04-22                 3              5   -2  -321   67.410   \n",
       "20397 2012-04-24                12              6   -5   -79   41.475   \n",
       "22708 2011-06-29                10              5   -4 -1238  519.960   \n",
       "\n",
       "       total_amt      Store_type          prod_cat          prod_subcat  \n",
       "2661   -1524.900        TeleShop  Home and kitchen              Kitchen  \n",
       "5083    -602.225          e-Shop          Footwear                 Mens  \n",
       "5489   -1290.640          e-Shop          Footwear                 Mens  \n",
       "7637   -1633.190          e-Shop              Bags                Women  \n",
       "9519   -5118.360        TeleShop       Electronics              Mobiles  \n",
       "12760  -3657.550          e-Shop  Home and kitchen                 Bath  \n",
       "13301  -2668.575          e-Shop       Electronics  Personal Appliances  \n",
       "13917   -455.260             MBR       Electronics  Personal Appliances  \n",
       "14640  -3717.220          e-Shop             Books             Academic  \n",
       "16967  -4237.675          e-Shop          Footwear                Women  \n",
       "19230   -709.410        TeleShop             Books               Comics  \n",
       "20397   -436.475  Flagship store  Home and kitchen                Tools  \n",
       "22708  -5471.960  Flagship store             Books          Non-Fiction  "
      ]
     },
     "execution_count": 24,
     "metadata": {},
     "output_type": "execute_result"
    }
   ],
   "source": [
    "# checking for duplicates\n",
    "\n",
    "customer_final[customer_final.duplicated()==True]\n",
    "\n",
    "# returns True if duplicate or else False"
   ]
  },
  {
   "cell_type": "code",
   "execution_count": 25,
   "metadata": {},
   "outputs": [
    {
     "data": {
      "text/html": [
       "<div>\n",
       "<style scoped>\n",
       "    .dataframe tbody tr th:only-of-type {\n",
       "        vertical-align: middle;\n",
       "    }\n",
       "\n",
       "    .dataframe tbody tr th {\n",
       "        vertical-align: top;\n",
       "    }\n",
       "\n",
       "    .dataframe thead th {\n",
       "        text-align: right;\n",
       "    }\n",
       "</style>\n",
       "<table border=\"1\" class=\"dataframe\">\n",
       "  <thead>\n",
       "    <tr style=\"text-align: right;\">\n",
       "      <th></th>\n",
       "      <th>customer_Id</th>\n",
       "      <th>DOB</th>\n",
       "      <th>Gender</th>\n",
       "      <th>city_code</th>\n",
       "      <th>transaction_id</th>\n",
       "      <th>cust_id</th>\n",
       "      <th>tran_date</th>\n",
       "      <th>prod_subcat_code</th>\n",
       "      <th>prod_cat_code</th>\n",
       "      <th>Qty</th>\n",
       "      <th>Rate</th>\n",
       "      <th>Tax</th>\n",
       "      <th>total_amt</th>\n",
       "      <th>Store_type</th>\n",
       "      <th>prod_cat</th>\n",
       "      <th>prod_subcat</th>\n",
       "    </tr>\n",
       "  </thead>\n",
       "  <tbody>\n",
       "    <tr>\n",
       "      <th>2660</th>\n",
       "      <td>269016</td>\n",
       "      <td>1983-03-12</td>\n",
       "      <td>F</td>\n",
       "      <td>8.0</td>\n",
       "      <td>63833750229</td>\n",
       "      <td>269016</td>\n",
       "      <td>2013-09-19</td>\n",
       "      <td>10</td>\n",
       "      <td>6</td>\n",
       "      <td>-3</td>\n",
       "      <td>-460</td>\n",
       "      <td>144.9</td>\n",
       "      <td>-1524.9</td>\n",
       "      <td>TeleShop</td>\n",
       "      <td>Home and kitchen</td>\n",
       "      <td>Kitchen</td>\n",
       "    </tr>\n",
       "    <tr>\n",
       "      <th>2661</th>\n",
       "      <td>269016</td>\n",
       "      <td>1983-03-12</td>\n",
       "      <td>F</td>\n",
       "      <td>8.0</td>\n",
       "      <td>63833750229</td>\n",
       "      <td>269016</td>\n",
       "      <td>2013-09-19</td>\n",
       "      <td>10</td>\n",
       "      <td>6</td>\n",
       "      <td>-3</td>\n",
       "      <td>-460</td>\n",
       "      <td>144.9</td>\n",
       "      <td>-1524.9</td>\n",
       "      <td>TeleShop</td>\n",
       "      <td>Home and kitchen</td>\n",
       "      <td>Kitchen</td>\n",
       "    </tr>\n",
       "    <tr>\n",
       "      <th>2662</th>\n",
       "      <td>269016</td>\n",
       "      <td>1983-03-12</td>\n",
       "      <td>F</td>\n",
       "      <td>8.0</td>\n",
       "      <td>63833750229</td>\n",
       "      <td>269016</td>\n",
       "      <td>2013-09-17</td>\n",
       "      <td>10</td>\n",
       "      <td>6</td>\n",
       "      <td>3</td>\n",
       "      <td>460</td>\n",
       "      <td>144.9</td>\n",
       "      <td>1524.9</td>\n",
       "      <td>TeleShop</td>\n",
       "      <td>Home and kitchen</td>\n",
       "      <td>Kitchen</td>\n",
       "    </tr>\n",
       "  </tbody>\n",
       "</table>\n",
       "</div>"
      ],
      "text/plain": [
       "      customer_Id        DOB Gender  city_code  transaction_id  cust_id  \\\n",
       "2660       269016 1983-03-12      F        8.0     63833750229   269016   \n",
       "2661       269016 1983-03-12      F        8.0     63833750229   269016   \n",
       "2662       269016 1983-03-12      F        8.0     63833750229   269016   \n",
       "\n",
       "      tran_date  prod_subcat_code  prod_cat_code  Qty  Rate    Tax  total_amt  \\\n",
       "2660 2013-09-19                10              6   -3  -460  144.9    -1524.9   \n",
       "2661 2013-09-19                10              6   -3  -460  144.9    -1524.9   \n",
       "2662 2013-09-17                10              6    3   460  144.9     1524.9   \n",
       "\n",
       "     Store_type          prod_cat prod_subcat  \n",
       "2660   TeleShop  Home and kitchen     Kitchen  \n",
       "2661   TeleShop  Home and kitchen     Kitchen  \n",
       "2662   TeleShop  Home and kitchen     Kitchen  "
      ]
     },
     "execution_count": 25,
     "metadata": {},
     "output_type": "execute_result"
    }
   ],
   "source": [
    "customer_final[customer_final.transaction_id == 63833750229]"
   ]
  },
  {
   "cell_type": "code",
   "execution_count": 26,
   "metadata": {},
   "outputs": [],
   "source": [
    "customer_final = customer_final.drop_duplicates()"
   ]
  },
  {
   "cell_type": "code",
   "execution_count": 27,
   "metadata": {},
   "outputs": [
    {
     "data": {
      "text/html": [
       "<div>\n",
       "<style scoped>\n",
       "    .dataframe tbody tr th:only-of-type {\n",
       "        vertical-align: middle;\n",
       "    }\n",
       "\n",
       "    .dataframe tbody tr th {\n",
       "        vertical-align: top;\n",
       "    }\n",
       "\n",
       "    .dataframe thead th {\n",
       "        text-align: right;\n",
       "    }\n",
       "</style>\n",
       "<table border=\"1\" class=\"dataframe\">\n",
       "  <thead>\n",
       "    <tr style=\"text-align: right;\">\n",
       "      <th></th>\n",
       "      <th>customer_Id</th>\n",
       "      <th>DOB</th>\n",
       "      <th>Gender</th>\n",
       "      <th>city_code</th>\n",
       "      <th>transaction_id</th>\n",
       "      <th>cust_id</th>\n",
       "      <th>tran_date</th>\n",
       "      <th>prod_subcat_code</th>\n",
       "      <th>prod_cat_code</th>\n",
       "      <th>Qty</th>\n",
       "      <th>Rate</th>\n",
       "      <th>Tax</th>\n",
       "      <th>total_amt</th>\n",
       "      <th>Store_type</th>\n",
       "      <th>prod_cat</th>\n",
       "      <th>prod_subcat</th>\n",
       "    </tr>\n",
       "  </thead>\n",
       "  <tbody>\n",
       "  </tbody>\n",
       "</table>\n",
       "</div>"
      ],
      "text/plain": [
       "Empty DataFrame\n",
       "Columns: [customer_Id, DOB, Gender, city_code, transaction_id, cust_id, tran_date, prod_subcat_code, prod_cat_code, Qty, Rate, Tax, total_amt, Store_type, prod_cat, prod_subcat]\n",
       "Index: []"
      ]
     },
     "execution_count": 27,
     "metadata": {},
     "output_type": "execute_result"
    }
   ],
   "source": [
    "customer_final[customer_final.duplicated()==True]"
   ]
  },
  {
   "cell_type": "markdown",
   "metadata": {},
   "source": [
    "--------------------------------------------"
   ]
  },
  {
   "cell_type": "markdown",
   "metadata": {},
   "source": [
    "### 2. Prepare a summary report for the merged data set.\n",
    "a. Get the column names and their corresponding data types"
   ]
  },
  {
   "cell_type": "code",
   "execution_count": 28,
   "metadata": {},
   "outputs": [
    {
     "data": {
      "text/plain": [
       "customer_Id                  int64\n",
       "DOB                 datetime64[ns]\n",
       "Gender                      object\n",
       "city_code                  float64\n",
       "transaction_id               int64\n",
       "cust_id                      int64\n",
       "tran_date           datetime64[ns]\n",
       "prod_subcat_code             int64\n",
       "prod_cat_code                int64\n",
       "Qty                          int64\n",
       "Rate                         int64\n",
       "Tax                        float64\n",
       "total_amt                  float64\n",
       "Store_type                  object\n",
       "prod_cat                    object\n",
       "prod_subcat                 object\n",
       "dtype: object"
      ]
     },
     "execution_count": 28,
     "metadata": {},
     "output_type": "execute_result"
    }
   ],
   "source": [
    "customer_final.dtypes"
   ]
  },
  {
   "cell_type": "markdown",
   "metadata": {},
   "source": [
    "### b. Top/Bottom 10 observations"
   ]
  },
  {
   "cell_type": "code",
   "execution_count": 29,
   "metadata": {},
   "outputs": [
    {
     "data": {
      "text/html": [
       "<div>\n",
       "<style scoped>\n",
       "    .dataframe tbody tr th:only-of-type {\n",
       "        vertical-align: middle;\n",
       "    }\n",
       "\n",
       "    .dataframe tbody tr th {\n",
       "        vertical-align: top;\n",
       "    }\n",
       "\n",
       "    .dataframe thead th {\n",
       "        text-align: right;\n",
       "    }\n",
       "</style>\n",
       "<table border=\"1\" class=\"dataframe\">\n",
       "  <thead>\n",
       "    <tr style=\"text-align: right;\">\n",
       "      <th></th>\n",
       "      <th>customer_Id</th>\n",
       "      <th>DOB</th>\n",
       "      <th>Gender</th>\n",
       "      <th>city_code</th>\n",
       "      <th>transaction_id</th>\n",
       "      <th>cust_id</th>\n",
       "      <th>tran_date</th>\n",
       "      <th>prod_subcat_code</th>\n",
       "      <th>prod_cat_code</th>\n",
       "      <th>Qty</th>\n",
       "      <th>Rate</th>\n",
       "      <th>Tax</th>\n",
       "      <th>total_amt</th>\n",
       "      <th>Store_type</th>\n",
       "      <th>prod_cat</th>\n",
       "      <th>prod_subcat</th>\n",
       "    </tr>\n",
       "  </thead>\n",
       "  <tbody>\n",
       "    <tr>\n",
       "      <th>0</th>\n",
       "      <td>268408</td>\n",
       "      <td>1970-01-02</td>\n",
       "      <td>M</td>\n",
       "      <td>4.0</td>\n",
       "      <td>87243835584</td>\n",
       "      <td>268408</td>\n",
       "      <td>2014-01-13</td>\n",
       "      <td>7</td>\n",
       "      <td>5</td>\n",
       "      <td>5</td>\n",
       "      <td>187</td>\n",
       "      <td>98.175</td>\n",
       "      <td>1033.175</td>\n",
       "      <td>TeleShop</td>\n",
       "      <td>Books</td>\n",
       "      <td>Fiction</td>\n",
       "    </tr>\n",
       "    <tr>\n",
       "      <th>1</th>\n",
       "      <td>275152</td>\n",
       "      <td>1970-01-16</td>\n",
       "      <td>M</td>\n",
       "      <td>4.0</td>\n",
       "      <td>73109425404</td>\n",
       "      <td>275152</td>\n",
       "      <td>2011-03-25</td>\n",
       "      <td>7</td>\n",
       "      <td>5</td>\n",
       "      <td>2</td>\n",
       "      <td>464</td>\n",
       "      <td>97.440</td>\n",
       "      <td>1025.440</td>\n",
       "      <td>e-Shop</td>\n",
       "      <td>Books</td>\n",
       "      <td>Fiction</td>\n",
       "    </tr>\n",
       "    <tr>\n",
       "      <th>2</th>\n",
       "      <td>275034</td>\n",
       "      <td>1970-01-18</td>\n",
       "      <td>F</td>\n",
       "      <td>4.0</td>\n",
       "      <td>64777271023</td>\n",
       "      <td>275034</td>\n",
       "      <td>2011-05-23</td>\n",
       "      <td>7</td>\n",
       "      <td>5</td>\n",
       "      <td>2</td>\n",
       "      <td>197</td>\n",
       "      <td>41.370</td>\n",
       "      <td>435.370</td>\n",
       "      <td>Flagship store</td>\n",
       "      <td>Books</td>\n",
       "      <td>Fiction</td>\n",
       "    </tr>\n",
       "    <tr>\n",
       "      <th>3</th>\n",
       "      <td>270829</td>\n",
       "      <td>1970-01-22</td>\n",
       "      <td>F</td>\n",
       "      <td>8.0</td>\n",
       "      <td>87174343938</td>\n",
       "      <td>270829</td>\n",
       "      <td>2013-09-12</td>\n",
       "      <td>7</td>\n",
       "      <td>5</td>\n",
       "      <td>4</td>\n",
       "      <td>1141</td>\n",
       "      <td>479.220</td>\n",
       "      <td>5043.220</td>\n",
       "      <td>e-Shop</td>\n",
       "      <td>Books</td>\n",
       "      <td>Fiction</td>\n",
       "    </tr>\n",
       "    <tr>\n",
       "      <th>4</th>\n",
       "      <td>267657</td>\n",
       "      <td>1970-01-29</td>\n",
       "      <td>F</td>\n",
       "      <td>7.0</td>\n",
       "      <td>76242744953</td>\n",
       "      <td>267657</td>\n",
       "      <td>2013-05-23</td>\n",
       "      <td>7</td>\n",
       "      <td>5</td>\n",
       "      <td>4</td>\n",
       "      <td>1020</td>\n",
       "      <td>428.400</td>\n",
       "      <td>4508.400</td>\n",
       "      <td>e-Shop</td>\n",
       "      <td>Books</td>\n",
       "      <td>Fiction</td>\n",
       "    </tr>\n",
       "    <tr>\n",
       "      <th>5</th>\n",
       "      <td>274630</td>\n",
       "      <td>1970-02-01</td>\n",
       "      <td>M</td>\n",
       "      <td>4.0</td>\n",
       "      <td>78357345891</td>\n",
       "      <td>274630</td>\n",
       "      <td>2012-11-04</td>\n",
       "      <td>7</td>\n",
       "      <td>5</td>\n",
       "      <td>1</td>\n",
       "      <td>646</td>\n",
       "      <td>67.830</td>\n",
       "      <td>713.830</td>\n",
       "      <td>TeleShop</td>\n",
       "      <td>Books</td>\n",
       "      <td>Fiction</td>\n",
       "    </tr>\n",
       "    <tr>\n",
       "      <th>6</th>\n",
       "      <td>273541</td>\n",
       "      <td>1970-02-01</td>\n",
       "      <td>M</td>\n",
       "      <td>4.0</td>\n",
       "      <td>23916816961</td>\n",
       "      <td>273541</td>\n",
       "      <td>2013-09-02</td>\n",
       "      <td>7</td>\n",
       "      <td>5</td>\n",
       "      <td>4</td>\n",
       "      <td>410</td>\n",
       "      <td>172.200</td>\n",
       "      <td>1812.200</td>\n",
       "      <td>e-Shop</td>\n",
       "      <td>Books</td>\n",
       "      <td>Fiction</td>\n",
       "    </tr>\n",
       "    <tr>\n",
       "      <th>7</th>\n",
       "      <td>269008</td>\n",
       "      <td>1970-02-13</td>\n",
       "      <td>F</td>\n",
       "      <td>6.0</td>\n",
       "      <td>35560569829</td>\n",
       "      <td>269008</td>\n",
       "      <td>2013-09-03</td>\n",
       "      <td>7</td>\n",
       "      <td>5</td>\n",
       "      <td>1</td>\n",
       "      <td>1441</td>\n",
       "      <td>151.305</td>\n",
       "      <td>1592.305</td>\n",
       "      <td>e-Shop</td>\n",
       "      <td>Books</td>\n",
       "      <td>Fiction</td>\n",
       "    </tr>\n",
       "    <tr>\n",
       "      <th>8</th>\n",
       "      <td>269008</td>\n",
       "      <td>1970-02-13</td>\n",
       "      <td>F</td>\n",
       "      <td>6.0</td>\n",
       "      <td>94033312891</td>\n",
       "      <td>269008</td>\n",
       "      <td>2012-04-26</td>\n",
       "      <td>7</td>\n",
       "      <td>5</td>\n",
       "      <td>5</td>\n",
       "      <td>746</td>\n",
       "      <td>391.650</td>\n",
       "      <td>4121.650</td>\n",
       "      <td>MBR</td>\n",
       "      <td>Books</td>\n",
       "      <td>Fiction</td>\n",
       "    </tr>\n",
       "    <tr>\n",
       "      <th>9</th>\n",
       "      <td>267199</td>\n",
       "      <td>1970-02-14</td>\n",
       "      <td>NaN</td>\n",
       "      <td>2.0</td>\n",
       "      <td>56749259881</td>\n",
       "      <td>267199</td>\n",
       "      <td>2012-11-01</td>\n",
       "      <td>7</td>\n",
       "      <td>5</td>\n",
       "      <td>4</td>\n",
       "      <td>1049</td>\n",
       "      <td>440.580</td>\n",
       "      <td>4636.580</td>\n",
       "      <td>MBR</td>\n",
       "      <td>Books</td>\n",
       "      <td>Fiction</td>\n",
       "    </tr>\n",
       "  </tbody>\n",
       "</table>\n",
       "</div>"
      ],
      "text/plain": [
       "   customer_Id        DOB Gender  city_code  transaction_id  cust_id  \\\n",
       "0       268408 1970-01-02      M        4.0     87243835584   268408   \n",
       "1       275152 1970-01-16      M        4.0     73109425404   275152   \n",
       "2       275034 1970-01-18      F        4.0     64777271023   275034   \n",
       "3       270829 1970-01-22      F        8.0     87174343938   270829   \n",
       "4       267657 1970-01-29      F        7.0     76242744953   267657   \n",
       "5       274630 1970-02-01      M        4.0     78357345891   274630   \n",
       "6       273541 1970-02-01      M        4.0     23916816961   273541   \n",
       "7       269008 1970-02-13      F        6.0     35560569829   269008   \n",
       "8       269008 1970-02-13      F        6.0     94033312891   269008   \n",
       "9       267199 1970-02-14    NaN        2.0     56749259881   267199   \n",
       "\n",
       "   tran_date  prod_subcat_code  prod_cat_code  Qty  Rate      Tax  total_amt  \\\n",
       "0 2014-01-13                 7              5    5   187   98.175   1033.175   \n",
       "1 2011-03-25                 7              5    2   464   97.440   1025.440   \n",
       "2 2011-05-23                 7              5    2   197   41.370    435.370   \n",
       "3 2013-09-12                 7              5    4  1141  479.220   5043.220   \n",
       "4 2013-05-23                 7              5    4  1020  428.400   4508.400   \n",
       "5 2012-11-04                 7              5    1   646   67.830    713.830   \n",
       "6 2013-09-02                 7              5    4   410  172.200   1812.200   \n",
       "7 2013-09-03                 7              5    1  1441  151.305   1592.305   \n",
       "8 2012-04-26                 7              5    5   746  391.650   4121.650   \n",
       "9 2012-11-01                 7              5    4  1049  440.580   4636.580   \n",
       "\n",
       "       Store_type prod_cat prod_subcat  \n",
       "0        TeleShop    Books     Fiction  \n",
       "1          e-Shop    Books     Fiction  \n",
       "2  Flagship store    Books     Fiction  \n",
       "3          e-Shop    Books     Fiction  \n",
       "4          e-Shop    Books     Fiction  \n",
       "5        TeleShop    Books     Fiction  \n",
       "6          e-Shop    Books     Fiction  \n",
       "7          e-Shop    Books     Fiction  \n",
       "8             MBR    Books     Fiction  \n",
       "9             MBR    Books     Fiction  "
      ]
     },
     "execution_count": 29,
     "metadata": {},
     "output_type": "execute_result"
    }
   ],
   "source": [
    "customer_final.head(10)"
   ]
  },
  {
   "cell_type": "code",
   "execution_count": 30,
   "metadata": {
    "scrolled": true
   },
   "outputs": [
    {
     "data": {
      "text/html": [
       "<div>\n",
       "<style scoped>\n",
       "    .dataframe tbody tr th:only-of-type {\n",
       "        vertical-align: middle;\n",
       "    }\n",
       "\n",
       "    .dataframe tbody tr th {\n",
       "        vertical-align: top;\n",
       "    }\n",
       "\n",
       "    .dataframe thead th {\n",
       "        text-align: right;\n",
       "    }\n",
       "</style>\n",
       "<table border=\"1\" class=\"dataframe\">\n",
       "  <thead>\n",
       "    <tr style=\"text-align: right;\">\n",
       "      <th></th>\n",
       "      <th>customer_Id</th>\n",
       "      <th>DOB</th>\n",
       "      <th>Gender</th>\n",
       "      <th>city_code</th>\n",
       "      <th>transaction_id</th>\n",
       "      <th>cust_id</th>\n",
       "      <th>tran_date</th>\n",
       "      <th>prod_subcat_code</th>\n",
       "      <th>prod_cat_code</th>\n",
       "      <th>Qty</th>\n",
       "      <th>Rate</th>\n",
       "      <th>Tax</th>\n",
       "      <th>total_amt</th>\n",
       "      <th>Store_type</th>\n",
       "      <th>prod_cat</th>\n",
       "      <th>prod_subcat</th>\n",
       "    </tr>\n",
       "  </thead>\n",
       "  <tbody>\n",
       "    <tr>\n",
       "      <th>23043</th>\n",
       "      <td>268914</td>\n",
       "      <td>1992-11-15</td>\n",
       "      <td>F</td>\n",
       "      <td>3.0</td>\n",
       "      <td>1407823655</td>\n",
       "      <td>268914</td>\n",
       "      <td>2011-10-06</td>\n",
       "      <td>10</td>\n",
       "      <td>5</td>\n",
       "      <td>1</td>\n",
       "      <td>1252</td>\n",
       "      <td>131.460</td>\n",
       "      <td>1383.460</td>\n",
       "      <td>MBR</td>\n",
       "      <td>Books</td>\n",
       "      <td>Non-Fiction</td>\n",
       "    </tr>\n",
       "    <tr>\n",
       "      <th>23044</th>\n",
       "      <td>269519</td>\n",
       "      <td>1992-11-17</td>\n",
       "      <td>M</td>\n",
       "      <td>9.0</td>\n",
       "      <td>29719500605</td>\n",
       "      <td>269519</td>\n",
       "      <td>2013-12-24</td>\n",
       "      <td>10</td>\n",
       "      <td>5</td>\n",
       "      <td>4</td>\n",
       "      <td>1036</td>\n",
       "      <td>435.120</td>\n",
       "      <td>4579.120</td>\n",
       "      <td>TeleShop</td>\n",
       "      <td>Books</td>\n",
       "      <td>Non-Fiction</td>\n",
       "    </tr>\n",
       "    <tr>\n",
       "      <th>23045</th>\n",
       "      <td>273524</td>\n",
       "      <td>1992-11-25</td>\n",
       "      <td>F</td>\n",
       "      <td>1.0</td>\n",
       "      <td>25762805863</td>\n",
       "      <td>273524</td>\n",
       "      <td>2012-11-19</td>\n",
       "      <td>10</td>\n",
       "      <td>5</td>\n",
       "      <td>1</td>\n",
       "      <td>1401</td>\n",
       "      <td>147.105</td>\n",
       "      <td>1548.105</td>\n",
       "      <td>Flagship store</td>\n",
       "      <td>Books</td>\n",
       "      <td>Non-Fiction</td>\n",
       "    </tr>\n",
       "    <tr>\n",
       "      <th>23046</th>\n",
       "      <td>272141</td>\n",
       "      <td>1992-12-02</td>\n",
       "      <td>F</td>\n",
       "      <td>10.0</td>\n",
       "      <td>71337087467</td>\n",
       "      <td>272141</td>\n",
       "      <td>2012-07-22</td>\n",
       "      <td>10</td>\n",
       "      <td>5</td>\n",
       "      <td>-3</td>\n",
       "      <td>-1422</td>\n",
       "      <td>447.930</td>\n",
       "      <td>-4713.930</td>\n",
       "      <td>e-Shop</td>\n",
       "      <td>Books</td>\n",
       "      <td>Non-Fiction</td>\n",
       "    </tr>\n",
       "    <tr>\n",
       "      <th>23047</th>\n",
       "      <td>272141</td>\n",
       "      <td>1992-12-02</td>\n",
       "      <td>F</td>\n",
       "      <td>10.0</td>\n",
       "      <td>71337087467</td>\n",
       "      <td>272141</td>\n",
       "      <td>2012-07-16</td>\n",
       "      <td>10</td>\n",
       "      <td>5</td>\n",
       "      <td>3</td>\n",
       "      <td>1422</td>\n",
       "      <td>447.930</td>\n",
       "      <td>4713.930</td>\n",
       "      <td>e-Shop</td>\n",
       "      <td>Books</td>\n",
       "      <td>Non-Fiction</td>\n",
       "    </tr>\n",
       "    <tr>\n",
       "      <th>23048</th>\n",
       "      <td>267812</td>\n",
       "      <td>1992-12-04</td>\n",
       "      <td>F</td>\n",
       "      <td>1.0</td>\n",
       "      <td>63540378797</td>\n",
       "      <td>267812</td>\n",
       "      <td>2012-10-10</td>\n",
       "      <td>10</td>\n",
       "      <td>5</td>\n",
       "      <td>3</td>\n",
       "      <td>224</td>\n",
       "      <td>70.560</td>\n",
       "      <td>742.560</td>\n",
       "      <td>TeleShop</td>\n",
       "      <td>Books</td>\n",
       "      <td>Non-Fiction</td>\n",
       "    </tr>\n",
       "    <tr>\n",
       "      <th>23049</th>\n",
       "      <td>274618</td>\n",
       "      <td>1992-12-09</td>\n",
       "      <td>F</td>\n",
       "      <td>7.0</td>\n",
       "      <td>71793203305</td>\n",
       "      <td>274618</td>\n",
       "      <td>2013-08-17</td>\n",
       "      <td>10</td>\n",
       "      <td>5</td>\n",
       "      <td>4</td>\n",
       "      <td>691</td>\n",
       "      <td>290.220</td>\n",
       "      <td>3054.220</td>\n",
       "      <td>Flagship store</td>\n",
       "      <td>Books</td>\n",
       "      <td>Non-Fiction</td>\n",
       "    </tr>\n",
       "    <tr>\n",
       "      <th>23050</th>\n",
       "      <td>268097</td>\n",
       "      <td>1992-12-15</td>\n",
       "      <td>F</td>\n",
       "      <td>7.0</td>\n",
       "      <td>91217108818</td>\n",
       "      <td>268097</td>\n",
       "      <td>2012-01-02</td>\n",
       "      <td>10</td>\n",
       "      <td>5</td>\n",
       "      <td>2</td>\n",
       "      <td>411</td>\n",
       "      <td>86.310</td>\n",
       "      <td>908.310</td>\n",
       "      <td>e-Shop</td>\n",
       "      <td>Books</td>\n",
       "      <td>Non-Fiction</td>\n",
       "    </tr>\n",
       "    <tr>\n",
       "      <th>23051</th>\n",
       "      <td>268097</td>\n",
       "      <td>1992-12-15</td>\n",
       "      <td>F</td>\n",
       "      <td>7.0</td>\n",
       "      <td>90114483354</td>\n",
       "      <td>268097</td>\n",
       "      <td>2011-01-31</td>\n",
       "      <td>10</td>\n",
       "      <td>5</td>\n",
       "      <td>-4</td>\n",
       "      <td>-1408</td>\n",
       "      <td>591.360</td>\n",
       "      <td>-6223.360</td>\n",
       "      <td>e-Shop</td>\n",
       "      <td>Books</td>\n",
       "      <td>Non-Fiction</td>\n",
       "    </tr>\n",
       "    <tr>\n",
       "      <th>23052</th>\n",
       "      <td>268097</td>\n",
       "      <td>1992-12-15</td>\n",
       "      <td>F</td>\n",
       "      <td>7.0</td>\n",
       "      <td>90114483354</td>\n",
       "      <td>268097</td>\n",
       "      <td>2011-01-26</td>\n",
       "      <td>10</td>\n",
       "      <td>5</td>\n",
       "      <td>4</td>\n",
       "      <td>1408</td>\n",
       "      <td>591.360</td>\n",
       "      <td>6223.360</td>\n",
       "      <td>e-Shop</td>\n",
       "      <td>Books</td>\n",
       "      <td>Non-Fiction</td>\n",
       "    </tr>\n",
       "  </tbody>\n",
       "</table>\n",
       "</div>"
      ],
      "text/plain": [
       "       customer_Id        DOB Gender  city_code  transaction_id  cust_id  \\\n",
       "23043       268914 1992-11-15      F        3.0      1407823655   268914   \n",
       "23044       269519 1992-11-17      M        9.0     29719500605   269519   \n",
       "23045       273524 1992-11-25      F        1.0     25762805863   273524   \n",
       "23046       272141 1992-12-02      F       10.0     71337087467   272141   \n",
       "23047       272141 1992-12-02      F       10.0     71337087467   272141   \n",
       "23048       267812 1992-12-04      F        1.0     63540378797   267812   \n",
       "23049       274618 1992-12-09      F        7.0     71793203305   274618   \n",
       "23050       268097 1992-12-15      F        7.0     91217108818   268097   \n",
       "23051       268097 1992-12-15      F        7.0     90114483354   268097   \n",
       "23052       268097 1992-12-15      F        7.0     90114483354   268097   \n",
       "\n",
       "       tran_date  prod_subcat_code  prod_cat_code  Qty  Rate      Tax  \\\n",
       "23043 2011-10-06                10              5    1  1252  131.460   \n",
       "23044 2013-12-24                10              5    4  1036  435.120   \n",
       "23045 2012-11-19                10              5    1  1401  147.105   \n",
       "23046 2012-07-22                10              5   -3 -1422  447.930   \n",
       "23047 2012-07-16                10              5    3  1422  447.930   \n",
       "23048 2012-10-10                10              5    3   224   70.560   \n",
       "23049 2013-08-17                10              5    4   691  290.220   \n",
       "23050 2012-01-02                10              5    2   411   86.310   \n",
       "23051 2011-01-31                10              5   -4 -1408  591.360   \n",
       "23052 2011-01-26                10              5    4  1408  591.360   \n",
       "\n",
       "       total_amt      Store_type prod_cat  prod_subcat  \n",
       "23043   1383.460             MBR    Books  Non-Fiction  \n",
       "23044   4579.120        TeleShop    Books  Non-Fiction  \n",
       "23045   1548.105  Flagship store    Books  Non-Fiction  \n",
       "23046  -4713.930          e-Shop    Books  Non-Fiction  \n",
       "23047   4713.930          e-Shop    Books  Non-Fiction  \n",
       "23048    742.560        TeleShop    Books  Non-Fiction  \n",
       "23049   3054.220  Flagship store    Books  Non-Fiction  \n",
       "23050    908.310          e-Shop    Books  Non-Fiction  \n",
       "23051  -6223.360          e-Shop    Books  Non-Fiction  \n",
       "23052   6223.360          e-Shop    Books  Non-Fiction  "
      ]
     },
     "execution_count": 30,
     "metadata": {},
     "output_type": "execute_result"
    }
   ],
   "source": [
    "customer_final.tail(10)"
   ]
  },
  {
   "cell_type": "markdown",
   "metadata": {},
   "source": [
    "### c. “Five-number summary” for continuous variables (min, Q1, median, Q3 and max)\n"
   ]
  },
  {
   "cell_type": "code",
   "execution_count": 31,
   "metadata": {},
   "outputs": [
    {
     "data": {
      "text/plain": [
       "count    23040.000000\n",
       "mean         2.435764\n",
       "std          2.264326\n",
       "min         -5.000000\n",
       "25%          1.000000\n",
       "50%          3.000000\n",
       "75%          4.000000\n",
       "max          5.000000\n",
       "Name: Qty, dtype: float64"
      ]
     },
     "execution_count": 31,
     "metadata": {},
     "output_type": "execute_result"
    }
   ],
   "source": [
    "customer_final.Qty.describe()"
   ]
  },
  {
   "cell_type": "code",
   "execution_count": 32,
   "metadata": {},
   "outputs": [
    {
     "data": {
      "text/plain": [
       "0         187\n",
       "1         464\n",
       "2         197\n",
       "3        1141\n",
       "4        1020\n",
       "         ... \n",
       "23048     224\n",
       "23049     691\n",
       "23050     411\n",
       "23051   -1408\n",
       "23052    1408\n",
       "Name: Rate, Length: 23040, dtype: int64"
      ]
     },
     "execution_count": 32,
     "metadata": {},
     "output_type": "execute_result"
    }
   ],
   "source": [
    "customer_final.Rate"
   ]
  },
  {
   "cell_type": "code",
   "execution_count": 33,
   "metadata": {},
   "outputs": [
    {
     "data": {
      "text/plain": [
       "0         98.175\n",
       "1         97.440\n",
       "2         41.370\n",
       "3        479.220\n",
       "4        428.400\n",
       "          ...   \n",
       "23048     70.560\n",
       "23049    290.220\n",
       "23050     86.310\n",
       "23051    591.360\n",
       "23052    591.360\n",
       "Name: Tax, Length: 23040, dtype: float64"
      ]
     },
     "execution_count": 33,
     "metadata": {},
     "output_type": "execute_result"
    }
   ],
   "source": [
    "customer_final.Tax"
   ]
  },
  {
   "cell_type": "code",
   "execution_count": 35,
   "metadata": {},
   "outputs": [
    {
     "data": {
      "text/plain": [
       "0        1033.175\n",
       "1        1025.440\n",
       "2         435.370\n",
       "3        5043.220\n",
       "4        4508.400\n",
       "           ...   \n",
       "23048     742.560\n",
       "23049    3054.220\n",
       "23050     908.310\n",
       "23051   -6223.360\n",
       "23052    6223.360\n",
       "Name: total_amt, Length: 23040, dtype: float64"
      ]
     },
     "execution_count": 35,
     "metadata": {},
     "output_type": "execute_result"
    }
   ],
   "source": [
    "customer_final.total_amt"
   ]
  },
  {
   "cell_type": "markdown",
   "metadata": {},
   "source": [
    "### d. Frequency tables for all the categorical variables"
   ]
  },
  {
   "cell_type": "code",
   "execution_count": 36,
   "metadata": {},
   "outputs": [
    {
     "data": {
      "text/html": [
       "<div>\n",
       "<style scoped>\n",
       "    .dataframe tbody tr th:only-of-type {\n",
       "        vertical-align: middle;\n",
       "    }\n",
       "\n",
       "    .dataframe tbody tr th {\n",
       "        vertical-align: top;\n",
       "    }\n",
       "\n",
       "    .dataframe thead th {\n",
       "        text-align: right;\n",
       "    }\n",
       "</style>\n",
       "<table border=\"1\" class=\"dataframe\">\n",
       "  <thead>\n",
       "    <tr style=\"text-align: right;\">\n",
       "      <th></th>\n",
       "      <th>Gender</th>\n",
       "      <th>Store_type</th>\n",
       "      <th>prod_cat</th>\n",
       "      <th>prod_subcat</th>\n",
       "    </tr>\n",
       "  </thead>\n",
       "  <tbody>\n",
       "    <tr>\n",
       "      <th>0</th>\n",
       "      <td>M</td>\n",
       "      <td>TeleShop</td>\n",
       "      <td>Books</td>\n",
       "      <td>Fiction</td>\n",
       "    </tr>\n",
       "    <tr>\n",
       "      <th>1</th>\n",
       "      <td>M</td>\n",
       "      <td>e-Shop</td>\n",
       "      <td>Books</td>\n",
       "      <td>Fiction</td>\n",
       "    </tr>\n",
       "  </tbody>\n",
       "</table>\n",
       "</div>"
      ],
      "text/plain": [
       "  Gender Store_type prod_cat prod_subcat\n",
       "0      M   TeleShop    Books     Fiction\n",
       "1      M     e-Shop    Books     Fiction"
      ]
     },
     "execution_count": 36,
     "metadata": {},
     "output_type": "execute_result"
    }
   ],
   "source": [
    "customer_final.select_dtypes('object').head(2)"
   ]
  },
  {
   "cell_type": "code",
   "execution_count": 37,
   "metadata": {},
   "outputs": [
    {
     "data": {
      "text/plain": [
       "M    11804\n",
       "F    11227\n",
       "Name: Gender, dtype: int64"
      ]
     },
     "execution_count": 37,
     "metadata": {},
     "output_type": "execute_result"
    }
   ],
   "source": [
    "# Using value_counts for Gender:\n",
    "\n",
    "customer_final.Gender.value_counts()"
   ]
  },
  {
   "cell_type": "code",
   "execution_count": 38,
   "metadata": {},
   "outputs": [
    {
     "data": {
      "text/plain": [
       "e-Shop            9304\n",
       "MBR               4660\n",
       "Flagship store    4575\n",
       "TeleShop          4501\n",
       "Name: Store_type, dtype: int64"
      ]
     },
     "execution_count": 38,
     "metadata": {},
     "output_type": "execute_result"
    }
   ],
   "source": [
    "# Using value_counts for Store_type:\n",
    "\n",
    "customer_final.Store_type.value_counts()"
   ]
  },
  {
   "cell_type": "code",
   "execution_count": 40,
   "metadata": {},
   "outputs": [
    {
     "data": {
      "text/plain": [
       "Books               6066\n",
       "Electronics         4895\n",
       "Home and kitchen    4126\n",
       "Footwear            2996\n",
       "Clothing            2960\n",
       "Bags                1997\n",
       "Name: prod_cat, dtype: int64"
      ]
     },
     "execution_count": 40,
     "metadata": {},
     "output_type": "execute_result"
    }
   ],
   "source": [
    "# Using value_counts for prod_cat:\n",
    "\n",
    "customer_final.prod_cat.value_counts()"
   ]
  },
  {
   "cell_type": "code",
   "execution_count": 41,
   "metadata": {},
   "outputs": [
    {
     "data": {
      "text/plain": [
       "Women                  3046\n",
       "Mens                   2910\n",
       "Kids                   1997\n",
       "Tools                  1061\n",
       "Fiction                1043\n",
       "Kitchen                1036\n",
       "Children               1035\n",
       "Comics                 1030\n",
       "Mobiles                1030\n",
       "Bath                   1022\n",
       "Furnishing             1007\n",
       "Non-Fiction            1003\n",
       "DIY                     989\n",
       "Cameras                 985\n",
       "Personal Appliances     970\n",
       "Academic                966\n",
       "Computers               958\n",
       "Audio and video         952\n",
       "Name: prod_subcat, dtype: int64"
      ]
     },
     "execution_count": 41,
     "metadata": {},
     "output_type": "execute_result"
    }
   ],
   "source": [
    "# Using value_counts for prod_subcat:\n",
    "\n",
    "customer_final.prod_subcat.value_counts()"
   ]
  },
  {
   "cell_type": "code",
   "execution_count": 42,
   "metadata": {},
   "outputs": [
    {
     "data": {
      "text/html": [
       "<div>\n",
       "<style scoped>\n",
       "    .dataframe tbody tr th:only-of-type {\n",
       "        vertical-align: middle;\n",
       "    }\n",
       "\n",
       "    .dataframe tbody tr th {\n",
       "        vertical-align: top;\n",
       "    }\n",
       "\n",
       "    .dataframe thead th {\n",
       "        text-align: right;\n",
       "    }\n",
       "</style>\n",
       "<table border=\"1\" class=\"dataframe\">\n",
       "  <thead>\n",
       "    <tr style=\"text-align: right;\">\n",
       "      <th>col_0</th>\n",
       "      <th>Gender</th>\n",
       "      <th>count_Of_Gender</th>\n",
       "    </tr>\n",
       "  </thead>\n",
       "  <tbody>\n",
       "    <tr>\n",
       "      <th>0</th>\n",
       "      <td>F</td>\n",
       "      <td>11227</td>\n",
       "    </tr>\n",
       "    <tr>\n",
       "      <th>1</th>\n",
       "      <td>M</td>\n",
       "      <td>11804</td>\n",
       "    </tr>\n",
       "  </tbody>\n",
       "</table>\n",
       "</div>"
      ],
      "text/plain": [
       "col_0 Gender  count_Of_Gender\n",
       "0          F            11227\n",
       "1          M            11804"
      ]
     },
     "execution_count": 42,
     "metadata": {},
     "output_type": "execute_result"
    }
   ],
   "source": [
    "# Using pd.crossTab  for Gender:\n",
    "\n",
    "pd.crosstab(index=customer_final['Gender'], columns = 'count').add_suffix('_Of_Gender').reset_index()"
   ]
  },
  {
   "cell_type": "code",
   "execution_count": 43,
   "metadata": {},
   "outputs": [
    {
     "data": {
      "text/html": [
       "<div>\n",
       "<style scoped>\n",
       "    .dataframe tbody tr th:only-of-type {\n",
       "        vertical-align: middle;\n",
       "    }\n",
       "\n",
       "    .dataframe tbody tr th {\n",
       "        vertical-align: top;\n",
       "    }\n",
       "\n",
       "    .dataframe thead th {\n",
       "        text-align: right;\n",
       "    }\n",
       "</style>\n",
       "<table border=\"1\" class=\"dataframe\">\n",
       "  <thead>\n",
       "    <tr style=\"text-align: right;\">\n",
       "      <th>col_0</th>\n",
       "      <th>Store_type</th>\n",
       "      <th>count_Of_Store_Type</th>\n",
       "    </tr>\n",
       "  </thead>\n",
       "  <tbody>\n",
       "    <tr>\n",
       "      <th>0</th>\n",
       "      <td>Flagship store</td>\n",
       "      <td>4575</td>\n",
       "    </tr>\n",
       "    <tr>\n",
       "      <th>1</th>\n",
       "      <td>MBR</td>\n",
       "      <td>4660</td>\n",
       "    </tr>\n",
       "    <tr>\n",
       "      <th>2</th>\n",
       "      <td>TeleShop</td>\n",
       "      <td>4501</td>\n",
       "    </tr>\n",
       "    <tr>\n",
       "      <th>3</th>\n",
       "      <td>e-Shop</td>\n",
       "      <td>9304</td>\n",
       "    </tr>\n",
       "  </tbody>\n",
       "</table>\n",
       "</div>"
      ],
      "text/plain": [
       "col_0      Store_type  count_Of_Store_Type\n",
       "0      Flagship store                 4575\n",
       "1                 MBR                 4660\n",
       "2            TeleShop                 4501\n",
       "3              e-Shop                 9304"
      ]
     },
     "execution_count": 43,
     "metadata": {},
     "output_type": "execute_result"
    }
   ],
   "source": [
    "# Using pd.crossTab for Store_Type:\n",
    "\n",
    "pd.crosstab(index=customer_final['Store_type'], columns='count').add_suffix('_Of_Store_Type').reset_index()"
   ]
  },
  {
   "cell_type": "code",
   "execution_count": 44,
   "metadata": {},
   "outputs": [
    {
     "data": {
      "text/html": [
       "<div>\n",
       "<style scoped>\n",
       "    .dataframe tbody tr th:only-of-type {\n",
       "        vertical-align: middle;\n",
       "    }\n",
       "\n",
       "    .dataframe tbody tr th {\n",
       "        vertical-align: top;\n",
       "    }\n",
       "\n",
       "    .dataframe thead th {\n",
       "        text-align: right;\n",
       "    }\n",
       "</style>\n",
       "<table border=\"1\" class=\"dataframe\">\n",
       "  <thead>\n",
       "    <tr style=\"text-align: right;\">\n",
       "      <th>col_0</th>\n",
       "      <th>prod_cat</th>\n",
       "      <th>count_Of_Prod_Cat</th>\n",
       "    </tr>\n",
       "  </thead>\n",
       "  <tbody>\n",
       "    <tr>\n",
       "      <th>0</th>\n",
       "      <td>Bags</td>\n",
       "      <td>1997</td>\n",
       "    </tr>\n",
       "    <tr>\n",
       "      <th>1</th>\n",
       "      <td>Books</td>\n",
       "      <td>6066</td>\n",
       "    </tr>\n",
       "    <tr>\n",
       "      <th>2</th>\n",
       "      <td>Clothing</td>\n",
       "      <td>2960</td>\n",
       "    </tr>\n",
       "    <tr>\n",
       "      <th>3</th>\n",
       "      <td>Electronics</td>\n",
       "      <td>4895</td>\n",
       "    </tr>\n",
       "    <tr>\n",
       "      <th>4</th>\n",
       "      <td>Footwear</td>\n",
       "      <td>2996</td>\n",
       "    </tr>\n",
       "    <tr>\n",
       "      <th>5</th>\n",
       "      <td>Home and kitchen</td>\n",
       "      <td>4126</td>\n",
       "    </tr>\n",
       "  </tbody>\n",
       "</table>\n",
       "</div>"
      ],
      "text/plain": [
       "col_0          prod_cat  count_Of_Prod_Cat\n",
       "0                  Bags               1997\n",
       "1                 Books               6066\n",
       "2              Clothing               2960\n",
       "3           Electronics               4895\n",
       "4              Footwear               2996\n",
       "5      Home and kitchen               4126"
      ]
     },
     "execution_count": 44,
     "metadata": {},
     "output_type": "execute_result"
    }
   ],
   "source": [
    "# Using pd.crossTab for Prod_cat:\n",
    "\n",
    "pd.crosstab(index=customer_final['prod_cat'], columns='count').add_suffix('_Of_Prod_Cat').reset_index()"
   ]
  },
  {
   "cell_type": "code",
   "execution_count": 45,
   "metadata": {},
   "outputs": [
    {
     "data": {
      "text/html": [
       "<div>\n",
       "<style scoped>\n",
       "    .dataframe tbody tr th:only-of-type {\n",
       "        vertical-align: middle;\n",
       "    }\n",
       "\n",
       "    .dataframe tbody tr th {\n",
       "        vertical-align: top;\n",
       "    }\n",
       "\n",
       "    .dataframe thead th {\n",
       "        text-align: right;\n",
       "    }\n",
       "</style>\n",
       "<table border=\"1\" class=\"dataframe\">\n",
       "  <thead>\n",
       "    <tr style=\"text-align: right;\">\n",
       "      <th>col_0</th>\n",
       "      <th>prod_subcat</th>\n",
       "      <th>count_Of_Prod_Subcat</th>\n",
       "    </tr>\n",
       "  </thead>\n",
       "  <tbody>\n",
       "    <tr>\n",
       "      <th>0</th>\n",
       "      <td>Academic</td>\n",
       "      <td>966</td>\n",
       "    </tr>\n",
       "    <tr>\n",
       "      <th>1</th>\n",
       "      <td>Audio and video</td>\n",
       "      <td>952</td>\n",
       "    </tr>\n",
       "    <tr>\n",
       "      <th>2</th>\n",
       "      <td>Bath</td>\n",
       "      <td>1022</td>\n",
       "    </tr>\n",
       "    <tr>\n",
       "      <th>3</th>\n",
       "      <td>Cameras</td>\n",
       "      <td>985</td>\n",
       "    </tr>\n",
       "    <tr>\n",
       "      <th>4</th>\n",
       "      <td>Children</td>\n",
       "      <td>1035</td>\n",
       "    </tr>\n",
       "    <tr>\n",
       "      <th>5</th>\n",
       "      <td>Comics</td>\n",
       "      <td>1030</td>\n",
       "    </tr>\n",
       "    <tr>\n",
       "      <th>6</th>\n",
       "      <td>Computers</td>\n",
       "      <td>958</td>\n",
       "    </tr>\n",
       "    <tr>\n",
       "      <th>7</th>\n",
       "      <td>DIY</td>\n",
       "      <td>989</td>\n",
       "    </tr>\n",
       "    <tr>\n",
       "      <th>8</th>\n",
       "      <td>Fiction</td>\n",
       "      <td>1043</td>\n",
       "    </tr>\n",
       "    <tr>\n",
       "      <th>9</th>\n",
       "      <td>Furnishing</td>\n",
       "      <td>1007</td>\n",
       "    </tr>\n",
       "    <tr>\n",
       "      <th>10</th>\n",
       "      <td>Kids</td>\n",
       "      <td>1997</td>\n",
       "    </tr>\n",
       "    <tr>\n",
       "      <th>11</th>\n",
       "      <td>Kitchen</td>\n",
       "      <td>1036</td>\n",
       "    </tr>\n",
       "    <tr>\n",
       "      <th>12</th>\n",
       "      <td>Mens</td>\n",
       "      <td>2910</td>\n",
       "    </tr>\n",
       "    <tr>\n",
       "      <th>13</th>\n",
       "      <td>Mobiles</td>\n",
       "      <td>1030</td>\n",
       "    </tr>\n",
       "    <tr>\n",
       "      <th>14</th>\n",
       "      <td>Non-Fiction</td>\n",
       "      <td>1003</td>\n",
       "    </tr>\n",
       "    <tr>\n",
       "      <th>15</th>\n",
       "      <td>Personal Appliances</td>\n",
       "      <td>970</td>\n",
       "    </tr>\n",
       "    <tr>\n",
       "      <th>16</th>\n",
       "      <td>Tools</td>\n",
       "      <td>1061</td>\n",
       "    </tr>\n",
       "    <tr>\n",
       "      <th>17</th>\n",
       "      <td>Women</td>\n",
       "      <td>3046</td>\n",
       "    </tr>\n",
       "  </tbody>\n",
       "</table>\n",
       "</div>"
      ],
      "text/plain": [
       "col_0          prod_subcat  count_Of_Prod_Subcat\n",
       "0                 Academic                   966\n",
       "1          Audio and video                   952\n",
       "2                     Bath                  1022\n",
       "3                  Cameras                   985\n",
       "4                 Children                  1035\n",
       "5                   Comics                  1030\n",
       "6                Computers                   958\n",
       "7                      DIY                   989\n",
       "8                  Fiction                  1043\n",
       "9               Furnishing                  1007\n",
       "10                    Kids                  1997\n",
       "11                 Kitchen                  1036\n",
       "12                    Mens                  2910\n",
       "13                 Mobiles                  1030\n",
       "14             Non-Fiction                  1003\n",
       "15     Personal Appliances                   970\n",
       "16                   Tools                  1061\n",
       "17                   Women                  3046"
      ]
     },
     "execution_count": 45,
     "metadata": {},
     "output_type": "execute_result"
    }
   ],
   "source": [
    "# Using pd.crossTab for Prod_Subcat:\n",
    "\n",
    "pd.crosstab(index=customer_final['prod_subcat'], columns='count').add_suffix('_Of_Prod_Subcat').reset_index()"
   ]
  },
  {
   "cell_type": "markdown",
   "metadata": {},
   "source": [
    "--------------------------------------------"
   ]
  },
  {
   "cell_type": "markdown",
   "metadata": {},
   "source": [
    "### 3. Generate histograms for all continuous variables and frequency bars for categorical variables.\n",
    "\n"
   ]
  },
  {
   "cell_type": "code",
   "execution_count": 46,
   "metadata": {},
   "outputs": [
    {
     "data": {
      "text/html": [
       "<div>\n",
       "<style scoped>\n",
       "    .dataframe tbody tr th:only-of-type {\n",
       "        vertical-align: middle;\n",
       "    }\n",
       "\n",
       "    .dataframe tbody tr th {\n",
       "        vertical-align: top;\n",
       "    }\n",
       "\n",
       "    .dataframe thead th {\n",
       "        text-align: right;\n",
       "    }\n",
       "</style>\n",
       "<table border=\"1\" class=\"dataframe\">\n",
       "  <thead>\n",
       "    <tr style=\"text-align: right;\">\n",
       "      <th></th>\n",
       "      <th>customer_Id</th>\n",
       "      <th>transaction_id</th>\n",
       "      <th>cust_id</th>\n",
       "      <th>prod_subcat_code</th>\n",
       "      <th>prod_cat_code</th>\n",
       "      <th>Qty</th>\n",
       "      <th>Rate</th>\n",
       "    </tr>\n",
       "  </thead>\n",
       "  <tbody>\n",
       "    <tr>\n",
       "      <th>0</th>\n",
       "      <td>268408</td>\n",
       "      <td>87243835584</td>\n",
       "      <td>268408</td>\n",
       "      <td>7</td>\n",
       "      <td>5</td>\n",
       "      <td>5</td>\n",
       "      <td>187</td>\n",
       "    </tr>\n",
       "    <tr>\n",
       "      <th>1</th>\n",
       "      <td>275152</td>\n",
       "      <td>73109425404</td>\n",
       "      <td>275152</td>\n",
       "      <td>7</td>\n",
       "      <td>5</td>\n",
       "      <td>2</td>\n",
       "      <td>464</td>\n",
       "    </tr>\n",
       "  </tbody>\n",
       "</table>\n",
       "</div>"
      ],
      "text/plain": [
       "   customer_Id  transaction_id  cust_id  prod_subcat_code  prod_cat_code  Qty  \\\n",
       "0       268408     87243835584   268408                 7              5    5   \n",
       "1       275152     73109425404   275152                 7              5    2   \n",
       "\n",
       "   Rate  \n",
       "0   187  \n",
       "1   464  "
      ]
     },
     "execution_count": 46,
     "metadata": {},
     "output_type": "execute_result"
    }
   ],
   "source": [
    "customer_final.select_dtypes('int64').head(2)"
   ]
  },
  {
   "cell_type": "code",
   "execution_count": 47,
   "metadata": {},
   "outputs": [
    {
     "data": {
      "text/html": [
       "<div>\n",
       "<style scoped>\n",
       "    .dataframe tbody tr th:only-of-type {\n",
       "        vertical-align: middle;\n",
       "    }\n",
       "\n",
       "    .dataframe tbody tr th {\n",
       "        vertical-align: top;\n",
       "    }\n",
       "\n",
       "    .dataframe thead th {\n",
       "        text-align: right;\n",
       "    }\n",
       "</style>\n",
       "<table border=\"1\" class=\"dataframe\">\n",
       "  <thead>\n",
       "    <tr style=\"text-align: right;\">\n",
       "      <th></th>\n",
       "      <th>city_code</th>\n",
       "      <th>Tax</th>\n",
       "      <th>total_amt</th>\n",
       "    </tr>\n",
       "  </thead>\n",
       "  <tbody>\n",
       "    <tr>\n",
       "      <th>0</th>\n",
       "      <td>4.0</td>\n",
       "      <td>98.175</td>\n",
       "      <td>1033.175</td>\n",
       "    </tr>\n",
       "    <tr>\n",
       "      <th>1</th>\n",
       "      <td>4.0</td>\n",
       "      <td>97.440</td>\n",
       "      <td>1025.440</td>\n",
       "    </tr>\n",
       "  </tbody>\n",
       "</table>\n",
       "</div>"
      ],
      "text/plain": [
       "   city_code     Tax  total_amt\n",
       "0        4.0  98.175   1033.175\n",
       "1        4.0  97.440   1025.440"
      ]
     },
     "execution_count": 47,
     "metadata": {},
     "output_type": "execute_result"
    }
   ],
   "source": [
    "customer_final.select_dtypes('float64').head(2)"
   ]
  },
  {
   "cell_type": "code",
   "execution_count": 48,
   "metadata": {},
   "outputs": [
    {
     "data": {
      "image/png": "[encoded data removed]",
      "text/plain": [
       "<Figure size 432x288 with 1 Axes>"
      ]
     },
     "metadata": {
      "needs_background": "light"
     },
     "output_type": "display_data"
    }
   ],
   "source": [
    "# Histogram for Qty\n",
    "\n",
    "customer_final.Qty.plot(kind='hist', color='hotpink')\n",
    "plt.title('Histogram of Quantity')\n",
    "plt.xlabel('Quantity')\n",
    "plt.show()"
   ]
  },
  {
   "cell_type": "code",
   "execution_count": 277,
   "metadata": {},
   "outputs": [
    {
     "data": {
      "image/png": "[encoded data removed]",
      "text/plain": [
       "<Figure size 432x288 with 1 Axes>"
      ]
     },
     "metadata": {
      "needs_background": "light"
     },
     "output_type": "display_data"
    }
   ],
   "source": [
    "# Histogram for Rate\n",
    "\n",
    "sns.distplot(customer_final.Rate, color='coral')\n",
    "plt.title('Histogram for Rate')\n",
    "plt.show()"
   ]
  },
  {
   "cell_type": "code",
   "execution_count": 278,
   "metadata": {},
   "outputs": [
    {
     "data": {
      "image/png": "[encoded data removed]",
      "text/plain": [
       "<Figure size 432x288 with 1 Axes>"
      ]
     },
     "metadata": {
      "needs_background": "light"
     },
     "output_type": "display_data"
    }
   ],
   "source": [
    "# Histogram for Tax\n",
    "sns.distplot(customer_final.Tax , color='#a83232')\n",
    "plt.title('Histogram for Tax')\n",
    "plt.show()"
   ]
  },
  {
   "cell_type": "code",
   "execution_count": 279,
   "metadata": {},
   "outputs": [
    {
     "data": {
      "image/png": "[encoded data removed]",
      "text/plain": [
       "<Figure size 432x288 with 1 Axes>"
      ]
     },
     "metadata": {
      "needs_background": "light"
     },
     "output_type": "display_data"
    }
   ],
   "source": [
    "# Histogram for Total_amt\n",
    "\n",
    "sns.distplot(customer_final.total_amt, color='#07462d')\n",
    "plt.title('Histogram for Total Amount')\n",
    "plt.xlabel('Total Amount')\n",
    "plt.show()"
   ]
  },
  {
   "cell_type": "code",
   "execution_count": 280,
   "metadata": {},
   "outputs": [
    {
     "data": {
      "image/png": "[encoded data removed]",
      "text/plain": [
       "<Figure size 432x288 with 1 Axes>"
      ]
     },
     "metadata": {
      "needs_background": "light"
     },
     "output_type": "display_data"
    }
   ],
   "source": [
    "# Frequency bar for Gender:\n",
    "\n",
    "sns.countplot(customer_final.Gender, palette=['#FFF8DC','#DC143C'])\n",
    "plt.title('Frequency bar for Gender')\n",
    "plt.show()"
   ]
  },
  {
   "cell_type": "code",
   "execution_count": 57,
   "metadata": {},
   "outputs": [],
   "source": [
    "sns.set(color_codes=True,context='notebook',style='darkgrid',palette='deep',font='sans-serif')"
   ]
  },
  {
   "cell_type": "code",
   "execution_count": 58,
   "metadata": {},
   "outputs": [
    {
     "data": {
      "image/png": "[encoded data removed]",
      "text/plain": [
       "<Figure size 432x288 with 1 Axes>"
      ]
     },
     "metadata": {},
     "output_type": "display_data"
    }
   ],
   "source": [
    "# Frequency bar for Store_Type:\n",
    "sns.countplot(customer_final.Store_type, palette=['#5dbcd2','#ec7788','#9f819b','#bed578'])\n",
    "plt.title('Demonstrating Frequency of Store Type')\n",
    "plt.xlabel('Store Types')\n",
    "plt.ylabel('Frequencies')\n",
    "plt.show()"
   ]
  },
  {
   "cell_type": "code",
   "execution_count": 60,
   "metadata": {},
   "outputs": [
    {
     "data": {
      "image/png": "[encoded data removed]",
      "text/plain": [
       "<Figure size 432x288 with 1 Axes>"
      ]
     },
     "metadata": {},
     "output_type": "display_data"
    }
   ],
   "source": [
    "# Frequency bar for Prod_cat:\n",
    "\n",
    "sns.countplot(y=customer_final.prod_cat, palette='Set3')\n",
    "plt.title('Frequncies of Product Category')\n",
    "plt.ylabel('Product Categories')\n",
    "plt.xlabel('Frequency')\n",
    "plt.show()"
   ]
  },
  {
   "cell_type": "code",
   "execution_count": 61,
   "metadata": {},
   "outputs": [
    {
     "data": {
      "image/png": "[encoded data removed]",
      "text/plain": [
       "<Figure size 432x288 with 1 Axes>"
      ]
     },
     "metadata": {},
     "output_type": "display_data"
    }
   ],
   "source": [
    "# Frequency bar for Prod_Subcat:\n",
    "\n",
    "sns.countplot(y=customer_final.prod_subcat, palette = 'Set2')\n",
    "plt.title('Frequencies of Product Subcategory')\n",
    "plt.ylabel('Product Sub Categories')\n",
    "plt.xlabel('Frequency')\n",
    "plt.show()"
   ]
  },
  {
   "cell_type": "markdown",
   "metadata": {},
   "source": [
    "--------------------------------------------"
   ]
  },
  {
   "cell_type": "markdown",
   "metadata": {},
   "source": [
    "### 4. Calculate the following information using the merged dataset :\n",
    "a. Time period of the available transaction data\n"
   ]
  },
  {
   "cell_type": "code",
   "execution_count": 62,
   "metadata": {},
   "outputs": [
    {
     "data": {
      "text/plain": [
       "Timestamp('2014-12-02 00:00:00')"
      ]
     },
     "execution_count": 62,
     "metadata": {},
     "output_type": "execute_result"
    }
   ],
   "source": [
    "max_date = customer_final.tran_date.max()\n",
    "max_date"
   ]
  },
  {
   "cell_type": "code",
   "execution_count": 63,
   "metadata": {},
   "outputs": [
    {
     "data": {
      "text/plain": [
       "Timestamp('2011-01-02 00:00:00')"
      ]
     },
     "execution_count": 63,
     "metadata": {},
     "output_type": "execute_result"
    }
   ],
   "source": [
    "min_date = customer_final.tran_date.min()\n",
    "min_date"
   ]
  },
  {
   "cell_type": "code",
   "execution_count": 64,
   "metadata": {},
   "outputs": [
    {
     "data": {
      "text/plain": [
       "<function Timestamp.date>"
      ]
     },
     "execution_count": 64,
     "metadata": {},
     "output_type": "execute_result"
    }
   ],
   "source": [
    "max_date.date"
   ]
  },
  {
   "cell_type": "code",
   "execution_count": 65,
   "metadata": {},
   "outputs": [],
   "source": [
    "max_Date = pd.Timestamp.strftime(max_date, format = '%d-%m-%Y')\n",
    "min_Date = pd.Timestamp.strftime(min_date, format = '%d-%m-%Y')"
   ]
  },
  {
   "cell_type": "code",
   "execution_count": 306,
   "metadata": {},
   "outputs": [
    {
     "name": "stdout",
     "output_type": "stream",
     "text": [
      "The time period of the available transaction data is from 02-12-2014 to 02-01-2011 .\n"
     ]
    }
   ],
   "source": [
    "print(\"The time period of the available transaction data is from\", max_Date,'to',min_Date,'.')"
   ]
  },
  {
   "cell_type": "markdown",
   "metadata": {},
   "source": [
    "### b. Count of transactions where the total amount of transaction was negative"
   ]
  },
  {
   "cell_type": "code",
   "execution_count": 66,
   "metadata": {},
   "outputs": [
    {
     "data": {
      "text/plain": [
       "2164"
      ]
     },
     "execution_count": 66,
     "metadata": {},
     "output_type": "execute_result"
    }
   ],
   "source": [
    "count = customer_final.loc[customer_final.total_amt<0].shape[0]\n",
    "count"
   ]
  },
  {
   "cell_type": "code",
   "execution_count": 67,
   "metadata": {
    "scrolled": true
   },
   "outputs": [
    {
     "name": "stdout",
     "output_type": "stream",
     "text": [
      "<class 'pandas.core.frame.DataFrame'>\n",
      "Int64Index: 2164 entries, 10 to 23051\n",
      "Data columns (total 16 columns):\n",
      " #   Column            Non-Null Count  Dtype         \n",
      "---  ------            --------------  -----         \n",
      " 0   customer_Id       2164 non-null   int64         \n",
      " 1   DOB               2164 non-null   datetime64[ns]\n",
      " 2   Gender            2163 non-null   object        \n",
      " 3   city_code         2164 non-null   float64       \n",
      " 4   transaction_id    2164 non-null   int64         \n",
      " 5   cust_id           2164 non-null   int64         \n",
      " 6   tran_date         2164 non-null   datetime64[ns]\n",
      " 7   prod_subcat_code  2164 non-null   int64         \n",
      " 8   prod_cat_code     2164 non-null   int64         \n",
      " 9   Qty               2164 non-null   int64         \n",
      " 10  Rate              2164 non-null   int64         \n",
      " 11  Tax               2164 non-null   float64       \n",
      " 12  total_amt         2164 non-null   float64       \n",
      " 13  Store_type        2164 non-null   object        \n",
      " 14  prod_cat          2164 non-null   object        \n",
      " 15  prod_subcat       2164 non-null   object        \n",
      "dtypes: datetime64[ns](2), float64(3), int64(7), object(4)\n",
      "memory usage: 287.4+ KB\n"
     ]
    }
   ],
   "source": [
    "customer_final.loc[customer_final.total_amt<0].info()"
   ]
  },
  {
   "cell_type": "code",
   "execution_count": 68,
   "metadata": {
    "scrolled": true
   },
   "outputs": [
    {
     "name": "stdout",
     "output_type": "stream",
     "text": [
      "The number of transactions where the total amount of transaction is negative is 2164 .\n"
     ]
    }
   ],
   "source": [
    "print('The number of transactions where the total amount of transaction is negative is',count,'.')"
   ]
  },
  {
   "cell_type": "markdown",
   "metadata": {},
   "source": [
    "--------------------------------------------"
   ]
  },
  {
   "cell_type": "markdown",
   "metadata": {},
   "source": [
    "### 5. Analyze which product categories are more popular among females vs male customers.\n"
   ]
  },
  {
   "cell_type": "code",
   "execution_count": 53,
   "metadata": {},
   "outputs": [
    {
     "data": {
      "image/png": "[encoded data removed]",
      "text/plain": [
       "<Figure size 504x504 with 1 Axes>"
      ]
     },
     "metadata": {},
     "output_type": "display_data"
    }
   ],
   "source": [
    "plt.figure(figsize=(7,7))\n",
    "sns.countplot(x='Gender', hue='prod_cat',data = customer_final, palette='Set1')\n",
    "plt.legend()\n",
    "plt.show()"
   ]
  },
  {
   "cell_type": "code",
   "execution_count": 69,
   "metadata": {
    "scrolled": true
   },
   "outputs": [
    {
     "data": {
      "text/html": [
       "<div>\n",
       "<style scoped>\n",
       "    .dataframe tbody tr th:only-of-type {\n",
       "        vertical-align: middle;\n",
       "    }\n",
       "\n",
       "    .dataframe tbody tr th {\n",
       "        vertical-align: top;\n",
       "    }\n",
       "\n",
       "    .dataframe thead th {\n",
       "        text-align: right;\n",
       "    }\n",
       "</style>\n",
       "<table border=\"1\" class=\"dataframe\">\n",
       "  <thead>\n",
       "    <tr style=\"text-align: right;\">\n",
       "      <th>prod_cat</th>\n",
       "      <th>Bags</th>\n",
       "      <th>Books</th>\n",
       "      <th>Clothing</th>\n",
       "      <th>Electronics</th>\n",
       "      <th>Footwear</th>\n",
       "      <th>Home and kitchen</th>\n",
       "    </tr>\n",
       "    <tr>\n",
       "      <th>Gender</th>\n",
       "      <th></th>\n",
       "      <th></th>\n",
       "      <th></th>\n",
       "      <th></th>\n",
       "      <th></th>\n",
       "      <th></th>\n",
       "    </tr>\n",
       "  </thead>\n",
       "  <tbody>\n",
       "    <tr>\n",
       "      <th>F</th>\n",
       "      <td>993</td>\n",
       "      <td>2946</td>\n",
       "      <td>1439</td>\n",
       "      <td>2328</td>\n",
       "      <td>1528</td>\n",
       "      <td>1993</td>\n",
       "    </tr>\n",
       "    <tr>\n",
       "      <th>M</th>\n",
       "      <td>1004</td>\n",
       "      <td>3116</td>\n",
       "      <td>1518</td>\n",
       "      <td>2567</td>\n",
       "      <td>1467</td>\n",
       "      <td>2132</td>\n",
       "    </tr>\n",
       "  </tbody>\n",
       "</table>\n",
       "</div>"
      ],
      "text/plain": [
       "prod_cat  Bags  Books  Clothing  Electronics  Footwear  Home and kitchen\n",
       "Gender                                                                  \n",
       "F          993   2946      1439         2328      1528              1993\n",
       "M         1004   3116      1518         2567      1467              2132"
      ]
     },
     "execution_count": 69,
     "metadata": {},
     "output_type": "execute_result"
    }
   ],
   "source": [
    "pd.crosstab(index=customer_final['Gender'], columns=customer_final['prod_cat'])"
   ]
  },
  {
   "cell_type": "code",
   "execution_count": 70,
   "metadata": {
    "scrolled": false
   },
   "outputs": [
    {
     "data": {
      "text/html": [
       "<div>\n",
       "<style scoped>\n",
       "    .dataframe tbody tr th:only-of-type {\n",
       "        vertical-align: middle;\n",
       "    }\n",
       "\n",
       "    .dataframe tbody tr th {\n",
       "        vertical-align: top;\n",
       "    }\n",
       "\n",
       "    .dataframe thead th {\n",
       "        text-align: right;\n",
       "    }\n",
       "</style>\n",
       "<table border=\"1\" class=\"dataframe\">\n",
       "  <thead>\n",
       "    <tr style=\"text-align: right;\">\n",
       "      <th>prod_cat</th>\n",
       "      <th>Bags</th>\n",
       "      <th>Books</th>\n",
       "      <th>Clothing</th>\n",
       "      <th>Electronics</th>\n",
       "      <th>Footwear</th>\n",
       "      <th>Home and kitchen</th>\n",
       "    </tr>\n",
       "    <tr>\n",
       "      <th>Gender</th>\n",
       "      <th></th>\n",
       "      <th></th>\n",
       "      <th></th>\n",
       "      <th></th>\n",
       "      <th></th>\n",
       "      <th></th>\n",
       "    </tr>\n",
       "  </thead>\n",
       "  <tbody>\n",
       "    <tr>\n",
       "      <th>F</th>\n",
       "      <td>993</td>\n",
       "      <td>2946</td>\n",
       "      <td>1439</td>\n",
       "      <td>2328</td>\n",
       "      <td>1528</td>\n",
       "      <td>1993</td>\n",
       "    </tr>\n",
       "    <tr>\n",
       "      <th>M</th>\n",
       "      <td>1004</td>\n",
       "      <td>3116</td>\n",
       "      <td>1518</td>\n",
       "      <td>2567</td>\n",
       "      <td>1467</td>\n",
       "      <td>2132</td>\n",
       "    </tr>\n",
       "  </tbody>\n",
       "</table>\n",
       "</div>"
      ],
      "text/plain": [
       "prod_cat  Bags  Books  Clothing  Electronics  Footwear  Home and kitchen\n",
       "Gender                                                                  \n",
       "F          993   2946      1439         2328      1528              1993\n",
       "M         1004   3116      1518         2567      1467              2132"
      ]
     },
     "execution_count": 70,
     "metadata": {},
     "output_type": "execute_result"
    }
   ],
   "source": [
    "pd.crosstab(index=customer_final['Gender'], columns=customer_final['prod_cat'], \n",
    "            values=customer_final['Qty'], aggfunc=len)"
   ]
  },
  {
   "cell_type": "code",
   "execution_count": 71,
   "metadata": {
    "scrolled": true
   },
   "outputs": [
    {
     "name": "stdout",
     "output_type": "stream",
     "text": [
      "Among both Male and Female customers Books is the more popular product category\n"
     ]
    }
   ],
   "source": [
    "print('Among both Male and Female customers Books is the more popular product category')"
   ]
  },
  {
   "cell_type": "markdown",
   "metadata": {},
   "source": [
    "--------------------------------------------"
   ]
  },
  {
   "cell_type": "markdown",
   "metadata": {},
   "source": [
    "### 6. Which City code has the maximum customers and what was the percentage of customers from that city?\n"
   ]
  },
  {
   "cell_type": "code",
   "execution_count": 72,
   "metadata": {},
   "outputs": [
    {
     "data": {
      "text/plain": [
       "4.0    2422\n",
       "Name: city_code, dtype: int64"
      ]
     },
     "execution_count": 72,
     "metadata": {},
     "output_type": "execute_result"
    }
   ],
   "source": [
    "# checking for the city code with maximum customers\n",
    "\n",
    "city = customer_final.city_code.value_counts().head(1)\n",
    "city"
   ]
  },
  {
   "cell_type": "code",
   "execution_count": 73,
   "metadata": {},
   "outputs": [
    {
     "data": {
      "text/plain": [
       "10.51"
      ]
     },
     "execution_count": 73,
     "metadata": {},
     "output_type": "execute_result"
    }
   ],
   "source": [
    "# calculating the % of customer from City code with max customers\n",
    "res = round(city[4]/len(customer_final.customer_Id)*100,2)\n",
    "res"
   ]
  },
  {
   "cell_type": "code",
   "execution_count": 74,
   "metadata": {},
   "outputs": [
    {
     "name": "stdout",
     "output_type": "stream",
     "text": [
      "The City code with maximum customers is 4 and the percentage of customers from that city is: 10.51 %\n"
     ]
    }
   ],
   "source": [
    "print(\"The City code with maximum customers is 4 and the percentage of customers from that city is:\",res,'%')"
   ]
  },
  {
   "cell_type": "markdown",
   "metadata": {},
   "source": [
    "--------------------------------------------"
   ]
  },
  {
   "cell_type": "markdown",
   "metadata": {},
   "source": [
    "### 7. Which store type sells the maximum products by value and by quantity?"
   ]
  },
  {
   "cell_type": "code",
   "execution_count": 75,
   "metadata": {
    "scrolled": true
   },
   "outputs": [
    {
     "data": {
      "text/html": [
       "<div>\n",
       "<style scoped>\n",
       "    .dataframe tbody tr th:only-of-type {\n",
       "        vertical-align: middle;\n",
       "    }\n",
       "\n",
       "    .dataframe tbody tr th {\n",
       "        vertical-align: top;\n",
       "    }\n",
       "\n",
       "    .dataframe thead th {\n",
       "        text-align: right;\n",
       "    }\n",
       "</style>\n",
       "<table border=\"1\" class=\"dataframe\">\n",
       "  <thead>\n",
       "    <tr style=\"text-align: right;\">\n",
       "      <th></th>\n",
       "      <th>Store_type</th>\n",
       "      <th>Rate</th>\n",
       "      <th>Qty</th>\n",
       "    </tr>\n",
       "  </thead>\n",
       "  <tbody>\n",
       "    <tr>\n",
       "      <th>0</th>\n",
       "      <td>Flagship store</td>\n",
       "      <td>2942874</td>\n",
       "      <td>11142</td>\n",
       "    </tr>\n",
       "    <tr>\n",
       "      <th>1</th>\n",
       "      <td>MBR</td>\n",
       "      <td>2953665</td>\n",
       "      <td>11195</td>\n",
       "    </tr>\n",
       "    <tr>\n",
       "      <th>2</th>\n",
       "      <td>TeleShop</td>\n",
       "      <td>2836359</td>\n",
       "      <td>10993</td>\n",
       "    </tr>\n",
       "    <tr>\n",
       "      <th>3</th>\n",
       "      <td>e-Shop</td>\n",
       "      <td>5945770</td>\n",
       "      <td>22790</td>\n",
       "    </tr>\n",
       "  </tbody>\n",
       "</table>\n",
       "</div>"
      ],
      "text/plain": [
       "       Store_type     Rate    Qty\n",
       "0  Flagship store  2942874  11142\n",
       "1             MBR  2953665  11195\n",
       "2        TeleShop  2836359  10993\n",
       "3          e-Shop  5945770  22790"
      ]
     },
     "execution_count": 75,
     "metadata": {},
     "output_type": "execute_result"
    }
   ],
   "source": [
    "customer_final.groupby(['Store_type'])[['Rate','Qty']].sum().reset_index()"
   ]
  },
  {
   "cell_type": "code",
   "execution_count": 76,
   "metadata": {
    "scrolled": true
   },
   "outputs": [
    {
     "name": "stdout",
     "output_type": "stream",
     "text": [
      "e-shop is the StoreType that sells maximum products both by value and by quantity.\n"
     ]
    }
   ],
   "source": [
    "print('e-shop is the StoreType that sells maximum products both by value and by quantity.')"
   ]
  },
  {
   "cell_type": "markdown",
   "metadata": {},
   "source": [
    "--------------------------------------------"
   ]
  },
  {
   "cell_type": "markdown",
   "metadata": {},
   "source": [
    "### 8. What was the total amount earned from the \"Electronics\" and \"Clothing\" categories from Flagship Stores?\n"
   ]
  },
  {
   "cell_type": "code",
   "execution_count": 77,
   "metadata": {},
   "outputs": [
    {
     "data": {
      "text/html": [
       "<div>\n",
       "<style scoped>\n",
       "    .dataframe tbody tr th:only-of-type {\n",
       "        vertical-align: middle;\n",
       "    }\n",
       "\n",
       "    .dataframe tbody tr th {\n",
       "        vertical-align: top;\n",
       "    }\n",
       "\n",
       "    .dataframe thead th {\n",
       "        text-align: right;\n",
       "    }\n",
       "</style>\n",
       "<table border=\"1\" class=\"dataframe\">\n",
       "  <thead>\n",
       "    <tr style=\"text-align: right;\">\n",
       "      <th>prod_cat</th>\n",
       "      <th>Bags</th>\n",
       "      <th>Books</th>\n",
       "      <th>Clothing</th>\n",
       "      <th>Electronics</th>\n",
       "      <th>Footwear</th>\n",
       "      <th>Home and kitchen</th>\n",
       "      <th>All</th>\n",
       "    </tr>\n",
       "    <tr>\n",
       "      <th>Store_type</th>\n",
       "      <th></th>\n",
       "      <th></th>\n",
       "      <th></th>\n",
       "      <th></th>\n",
       "      <th></th>\n",
       "      <th></th>\n",
       "      <th></th>\n",
       "    </tr>\n",
       "  </thead>\n",
       "  <tbody>\n",
       "    <tr>\n",
       "      <th>Flagship store</th>\n",
       "      <td>870548.83</td>\n",
       "      <td>2493677.81</td>\n",
       "      <td>1194423.23</td>\n",
       "      <td>2215136.04</td>\n",
       "      <td>1234806.56</td>\n",
       "      <td>1713004.15</td>\n",
       "      <td>9721596.62</td>\n",
       "    </tr>\n",
       "    <tr>\n",
       "      <th>MBR</th>\n",
       "      <td>848678.68</td>\n",
       "      <td>2496039.20</td>\n",
       "      <td>1287686.34</td>\n",
       "      <td>2107969.83</td>\n",
       "      <td>1112163.72</td>\n",
       "      <td>1822403.57</td>\n",
       "      <td>9674941.32</td>\n",
       "    </tr>\n",
       "    <tr>\n",
       "      <th>TeleShop</th>\n",
       "      <td>789181.06</td>\n",
       "      <td>2545714.47</td>\n",
       "      <td>1241834.36</td>\n",
       "      <td>1978457.19</td>\n",
       "      <td>1235719.29</td>\n",
       "      <td>1581227.38</td>\n",
       "      <td>9372133.74</td>\n",
       "    </tr>\n",
       "    <tr>\n",
       "      <th>e-Shop</th>\n",
       "      <td>1617933.27</td>\n",
       "      <td>5297161.15</td>\n",
       "      <td>2527193.57</td>\n",
       "      <td>4429142.77</td>\n",
       "      <td>2643215.25</td>\n",
       "      <td>3327977.12</td>\n",
       "      <td>19842623.13</td>\n",
       "    </tr>\n",
       "    <tr>\n",
       "      <th>All</th>\n",
       "      <td>4126341.83</td>\n",
       "      <td>12832592.63</td>\n",
       "      <td>6251137.49</td>\n",
       "      <td>10730705.83</td>\n",
       "      <td>6225904.81</td>\n",
       "      <td>8444612.22</td>\n",
       "      <td>48611294.81</td>\n",
       "    </tr>\n",
       "  </tbody>\n",
       "</table>\n",
       "</div>"
      ],
      "text/plain": [
       "prod_cat              Bags        Books    Clothing  Electronics    Footwear  \\\n",
       "Store_type                                                                     \n",
       "Flagship store   870548.83   2493677.81  1194423.23   2215136.04  1234806.56   \n",
       "MBR              848678.68   2496039.20  1287686.34   2107969.83  1112163.72   \n",
       "TeleShop         789181.06   2545714.47  1241834.36   1978457.19  1235719.29   \n",
       "e-Shop          1617933.27   5297161.15  2527193.57   4429142.77  2643215.25   \n",
       "All             4126341.83  12832592.63  6251137.49  10730705.83  6225904.81   \n",
       "\n",
       "prod_cat        Home and kitchen          All  \n",
       "Store_type                                     \n",
       "Flagship store        1713004.15   9721596.62  \n",
       "MBR                   1822403.57   9674941.32  \n",
       "TeleShop              1581227.38   9372133.74  \n",
       "e-Shop                3327977.12  19842623.13  \n",
       "All                   8444612.22  48611294.81  "
      ]
     },
     "execution_count": 77,
     "metadata": {},
     "output_type": "execute_result"
    }
   ],
   "source": [
    "store_prod = pd.crosstab(index=customer_final['Store_type'], columns=customer_final['prod_cat'],\n",
    "            values=customer_final['total_amt'], aggfunc=np.sum, margins=True).round(2)\n",
    "\n",
    "store_prod"
   ]
  },
  {
   "cell_type": "code",
   "execution_count": 78,
   "metadata": {},
   "outputs": [
    {
     "data": {
      "text/plain": [
       "3409559.27"
      ]
     },
     "execution_count": 78,
     "metadata": {},
     "output_type": "execute_result"
    }
   ],
   "source": [
    "store_prod.loc['Flagship store',['Clothing','Electronics']].sum()"
   ]
  },
  {
   "cell_type": "code",
   "execution_count": 79,
   "metadata": {},
   "outputs": [
    {
     "name": "stdout",
     "output_type": "stream",
     "text": [
      "The total amount earned from the Electronics and Clothing categories from Flagship Stores is 3409559.27.\n"
     ]
    }
   ],
   "source": [
    "print('The total amount earned from the Electronics and Clothing categories from Flagship Stores is 3409559.27.')"
   ]
  },
  {
   "cell_type": "markdown",
   "metadata": {},
   "source": [
    "--------------------------------------------"
   ]
  },
  {
   "cell_type": "markdown",
   "metadata": {},
   "source": [
    "### 9. What was the total amount earned from \"Male\" customers under the \"Electronics\" category?"
   ]
  },
  {
   "cell_type": "code",
   "execution_count": 80,
   "metadata": {
    "scrolled": true
   },
   "outputs": [
    {
     "data": {
      "text/html": [
       "<div>\n",
       "<style scoped>\n",
       "    .dataframe tbody tr th:only-of-type {\n",
       "        vertical-align: middle;\n",
       "    }\n",
       "\n",
       "    .dataframe tbody tr th {\n",
       "        vertical-align: top;\n",
       "    }\n",
       "\n",
       "    .dataframe thead th {\n",
       "        text-align: right;\n",
       "    }\n",
       "</style>\n",
       "<table border=\"1\" class=\"dataframe\">\n",
       "  <thead>\n",
       "    <tr style=\"text-align: right;\">\n",
       "      <th>prod_cat</th>\n",
       "      <th>Bags</th>\n",
       "      <th>Books</th>\n",
       "      <th>Clothing</th>\n",
       "      <th>Electronics</th>\n",
       "      <th>Footwear</th>\n",
       "      <th>Home and kitchen</th>\n",
       "      <th>All</th>\n",
       "    </tr>\n",
       "    <tr>\n",
       "      <th>Gender</th>\n",
       "      <th></th>\n",
       "      <th></th>\n",
       "      <th></th>\n",
       "      <th></th>\n",
       "      <th></th>\n",
       "      <th></th>\n",
       "      <th></th>\n",
       "    </tr>\n",
       "  </thead>\n",
       "  <tbody>\n",
       "    <tr>\n",
       "      <th>F</th>\n",
       "      <td>2079618.84</td>\n",
       "      <td>6174590.83</td>\n",
       "      <td>3026750.8</td>\n",
       "      <td>5019354.21</td>\n",
       "      <td>3203155.21</td>\n",
       "      <td>4133702.23</td>\n",
       "      <td>23637172.13</td>\n",
       "    </tr>\n",
       "    <tr>\n",
       "      <th>M</th>\n",
       "      <td>2046722.99</td>\n",
       "      <td>6645972.78</td>\n",
       "      <td>3224079.5</td>\n",
       "      <td>5711351.62</td>\n",
       "      <td>3020200.36</td>\n",
       "      <td>4305169.51</td>\n",
       "      <td>24953496.75</td>\n",
       "    </tr>\n",
       "    <tr>\n",
       "      <th>All</th>\n",
       "      <td>4126341.83</td>\n",
       "      <td>12820563.60</td>\n",
       "      <td>6250830.3</td>\n",
       "      <td>10730705.83</td>\n",
       "      <td>6223355.58</td>\n",
       "      <td>8438871.74</td>\n",
       "      <td>48590668.88</td>\n",
       "    </tr>\n",
       "  </tbody>\n",
       "</table>\n",
       "</div>"
      ],
      "text/plain": [
       "prod_cat        Bags        Books   Clothing  Electronics    Footwear  \\\n",
       "Gender                                                                  \n",
       "F         2079618.84   6174590.83  3026750.8   5019354.21  3203155.21   \n",
       "M         2046722.99   6645972.78  3224079.5   5711351.62  3020200.36   \n",
       "All       4126341.83  12820563.60  6250830.3  10730705.83  6223355.58   \n",
       "\n",
       "prod_cat  Home and kitchen          All  \n",
       "Gender                                   \n",
       "F               4133702.23  23637172.13  \n",
       "M               4305169.51  24953496.75  \n",
       "All             8438871.74  48590668.88  "
      ]
     },
     "execution_count": 80,
     "metadata": {},
     "output_type": "execute_result"
    }
   ],
   "source": [
    "pd.crosstab(index=customer_final['Gender'], columns=customer_final['prod_cat'], \n",
    "            values=customer_final['total_amt'], aggfunc=np.sum, margins=True).round(2)"
   ]
  },
  {
   "cell_type": "code",
   "execution_count": 81,
   "metadata": {},
   "outputs": [
    {
     "name": "stdout",
     "output_type": "stream",
     "text": [
      "The total amount earned from Male customers under the Electronics category is 5711351.62.\n"
     ]
    }
   ],
   "source": [
    "print('The total amount earned from Male customers under the Electronics category is 5711351.62.')"
   ]
  },
  {
   "cell_type": "markdown",
   "metadata": {},
   "source": [
    "--------------------------------------------"
   ]
  },
  {
   "cell_type": "markdown",
   "metadata": {},
   "source": [
    "### 10. How many customers have more than 10 unique transactions, after removing all transactions which have any negative amounts?"
   ]
  },
  {
   "cell_type": "code",
   "execution_count": 88,
   "metadata": {},
   "outputs": [],
   "source": [
    "# step 1: creating df with positive transaction amount:\n",
    "txn_ = customer_final.loc[customer_final.total_amt>0,:]"
   ]
  },
  {
   "cell_type": "code",
   "execution_count": 116,
   "metadata": {},
   "outputs": [
    {
     "data": {
      "text/html": [
       "<div>\n",
       "<style scoped>\n",
       "    .dataframe tbody tr th:only-of-type {\n",
       "        vertical-align: middle;\n",
       "    }\n",
       "\n",
       "    .dataframe tbody tr th {\n",
       "        vertical-align: top;\n",
       "    }\n",
       "\n",
       "    .dataframe thead th {\n",
       "        text-align: right;\n",
       "    }\n",
       "</style>\n",
       "<table border=\"1\" class=\"dataframe\">\n",
       "  <thead>\n",
       "    <tr style=\"text-align: right;\">\n",
       "      <th></th>\n",
       "      <th>customer_Id</th>\n",
       "      <th>transaction_id</th>\n",
       "    </tr>\n",
       "  </thead>\n",
       "  <tbody>\n",
       "    <tr>\n",
       "      <th>0</th>\n",
       "      <td>266783</td>\n",
       "      <td>4</td>\n",
       "    </tr>\n",
       "    <tr>\n",
       "      <th>1</th>\n",
       "      <td>266784</td>\n",
       "      <td>3</td>\n",
       "    </tr>\n",
       "    <tr>\n",
       "      <th>2</th>\n",
       "      <td>266785</td>\n",
       "      <td>7</td>\n",
       "    </tr>\n",
       "    <tr>\n",
       "      <th>3</th>\n",
       "      <td>266788</td>\n",
       "      <td>4</td>\n",
       "    </tr>\n",
       "    <tr>\n",
       "      <th>4</th>\n",
       "      <td>266794</td>\n",
       "      <td>11</td>\n",
       "    </tr>\n",
       "    <tr>\n",
       "      <th>...</th>\n",
       "      <td>...</td>\n",
       "      <td>...</td>\n",
       "    </tr>\n",
       "    <tr>\n",
       "      <th>5501</th>\n",
       "      <td>275257</td>\n",
       "      <td>4</td>\n",
       "    </tr>\n",
       "    <tr>\n",
       "      <th>5502</th>\n",
       "      <td>275261</td>\n",
       "      <td>3</td>\n",
       "    </tr>\n",
       "    <tr>\n",
       "      <th>5503</th>\n",
       "      <td>275262</td>\n",
       "      <td>2</td>\n",
       "    </tr>\n",
       "    <tr>\n",
       "      <th>5504</th>\n",
       "      <td>275264</td>\n",
       "      <td>2</td>\n",
       "    </tr>\n",
       "    <tr>\n",
       "      <th>5505</th>\n",
       "      <td>275265</td>\n",
       "      <td>3</td>\n",
       "    </tr>\n",
       "  </tbody>\n",
       "</table>\n",
       "<p>5506 rows × 2 columns</p>\n",
       "</div>"
      ],
      "text/plain": [
       "      customer_Id  transaction_id\n",
       "0          266783               4\n",
       "1          266784               3\n",
       "2          266785               7\n",
       "3          266788               4\n",
       "4          266794              11\n",
       "...           ...             ...\n",
       "5501       275257               4\n",
       "5502       275261               3\n",
       "5503       275262               2\n",
       "5504       275264               2\n",
       "5505       275265               3\n",
       "\n",
       "[5506 rows x 2 columns]"
      ]
     },
     "execution_count": 116,
     "metadata": {},
     "output_type": "execute_result"
    }
   ],
   "source": [
    "# step 2: grouping on the basis of customer_Id and counting their transactions\n",
    "\n",
    "g_txn = txn_.groupby(['customer_Id'])[['transaction_id']].count().reset_index()\n",
    "g_txn"
   ]
  },
  {
   "cell_type": "code",
   "execution_count": 119,
   "metadata": {},
   "outputs": [
    {
     "data": {
      "text/html": [
       "<div>\n",
       "<style scoped>\n",
       "    .dataframe tbody tr th:only-of-type {\n",
       "        vertical-align: middle;\n",
       "    }\n",
       "\n",
       "    .dataframe tbody tr th {\n",
       "        vertical-align: top;\n",
       "    }\n",
       "\n",
       "    .dataframe thead th {\n",
       "        text-align: right;\n",
       "    }\n",
       "</style>\n",
       "<table border=\"1\" class=\"dataframe\">\n",
       "  <thead>\n",
       "    <tr style=\"text-align: right;\">\n",
       "      <th></th>\n",
       "      <th>customer_Id</th>\n",
       "      <th>transaction_id</th>\n",
       "    </tr>\n",
       "  </thead>\n",
       "  <tbody>\n",
       "    <tr>\n",
       "      <th>0</th>\n",
       "      <td>266794</td>\n",
       "      <td>11</td>\n",
       "    </tr>\n",
       "    <tr>\n",
       "      <th>1</th>\n",
       "      <td>270535</td>\n",
       "      <td>11</td>\n",
       "    </tr>\n",
       "    <tr>\n",
       "      <th>2</th>\n",
       "      <td>270803</td>\n",
       "      <td>11</td>\n",
       "    </tr>\n",
       "    <tr>\n",
       "      <th>3</th>\n",
       "      <td>272741</td>\n",
       "      <td>11</td>\n",
       "    </tr>\n",
       "    <tr>\n",
       "      <th>4</th>\n",
       "      <td>273014</td>\n",
       "      <td>11</td>\n",
       "    </tr>\n",
       "    <tr>\n",
       "      <th>5</th>\n",
       "      <td>274227</td>\n",
       "      <td>11</td>\n",
       "    </tr>\n",
       "  </tbody>\n",
       "</table>\n",
       "</div>"
      ],
      "text/plain": [
       "   customer_Id  transaction_id\n",
       "0       266794              11\n",
       "1       270535              11\n",
       "2       270803              11\n",
       "3       272741              11\n",
       "4       273014              11\n",
       "5       274227              11"
      ]
     },
     "execution_count": 119,
     "metadata": {},
     "output_type": "execute_result"
    }
   ],
   "source": [
    "# step 3: from grouped transactions, check for the customers having more than 10 unique transactions\n",
    "\n",
    "g_txn[g_txn['transaction_id']>10].reset_index(drop=True)"
   ]
  },
  {
   "cell_type": "code",
   "execution_count": 120,
   "metadata": {},
   "outputs": [
    {
     "name": "stdout",
     "output_type": "stream",
     "text": [
      "There are 6 customers with 11 unique transactions.\n"
     ]
    }
   ],
   "source": [
    "print(\"There are 6 customers with 11 unique transactions.\")"
   ]
  },
  {
   "cell_type": "markdown",
   "metadata": {},
   "source": [
    "--------------------------------------------"
   ]
  },
  {
   "cell_type": "markdown",
   "metadata": {},
   "source": [
    "### 11. For all customers aged between 25 - 35, find out:"
   ]
  },
  {
   "cell_type": "code",
   "execution_count": 147,
   "metadata": {},
   "outputs": [],
   "source": [
    "### finding the customers between age group 25-35\n",
    "\n",
    "# step 1: find the current year\n",
    "\n",
    "import datetime as dt\n",
    "\n",
    "today_date = dt.datetime.now().date()\n",
    "today_date\n",
    "\n",
    "#step 2 : Convert to Pandas' understandable format\n",
    "\n",
    "current_date = pd.to_datetime(today_date)\n",
    "current_date\n",
    "\n",
    "\n",
    "# step 3: find out the age\n",
    "\n",
    "age_in_days = (current_date - customer_final.DOB)\n",
    "\n",
    "# step 4: convert the age_in_days from timedelta[64] to int \n",
    "\n",
    "age = age_in_days.dt.days\n",
    "\n",
    "\n",
    "customer_final['Age'] = round(age/365.25)"
   ]
  },
  {
   "cell_type": "markdown",
   "metadata": {},
   "source": [
    "### a. What was the total amount spent for “Electronics” and “Books” product categories?"
   ]
  },
  {
   "cell_type": "code",
   "execution_count": 177,
   "metadata": {},
   "outputs": [],
   "source": [
    "# creating df by filtersing on rows with age b/w 25 to 35:\n",
    "\n",
    "age_25_35 = customer_final.loc[(customer_final.Age > 25) & (customer_final.Age <35),:].reset_index(drop=True)"
   ]
  },
  {
   "cell_type": "code",
   "execution_count": 180,
   "metadata": {},
   "outputs": [
    {
     "data": {
      "text/html": [
       "<div>\n",
       "<style scoped>\n",
       "    .dataframe tbody tr th:only-of-type {\n",
       "        vertical-align: middle;\n",
       "    }\n",
       "\n",
       "    .dataframe tbody tr th {\n",
       "        vertical-align: top;\n",
       "    }\n",
       "\n",
       "    .dataframe thead th {\n",
       "        text-align: right;\n",
       "    }\n",
       "</style>\n",
       "<table border=\"1\" class=\"dataframe\">\n",
       "  <thead>\n",
       "    <tr style=\"text-align: right;\">\n",
       "      <th></th>\n",
       "      <th>customer_Id</th>\n",
       "      <th>DOB</th>\n",
       "      <th>Gender</th>\n",
       "      <th>city_code</th>\n",
       "      <th>transaction_id</th>\n",
       "      <th>cust_id</th>\n",
       "      <th>tran_date</th>\n",
       "      <th>prod_subcat_code</th>\n",
       "      <th>prod_cat_code</th>\n",
       "      <th>Qty</th>\n",
       "      <th>Rate</th>\n",
       "      <th>Tax</th>\n",
       "      <th>total_amt</th>\n",
       "      <th>Store_type</th>\n",
       "      <th>prod_cat</th>\n",
       "      <th>prod_subcat</th>\n",
       "      <th>Age</th>\n",
       "    </tr>\n",
       "  </thead>\n",
       "  <tbody>\n",
       "    <tr>\n",
       "      <th>0</th>\n",
       "      <td>268590</td>\n",
       "      <td>1986-02-15</td>\n",
       "      <td>F</td>\n",
       "      <td>7.0</td>\n",
       "      <td>6979985894</td>\n",
       "      <td>268590</td>\n",
       "      <td>2013-01-23</td>\n",
       "      <td>7</td>\n",
       "      <td>5</td>\n",
       "      <td>1</td>\n",
       "      <td>128</td>\n",
       "      <td>13.44</td>\n",
       "      <td>141.44</td>\n",
       "      <td>MBR</td>\n",
       "      <td>Books</td>\n",
       "      <td>Fiction</td>\n",
       "      <td>34.0</td>\n",
       "    </tr>\n",
       "    <tr>\n",
       "      <th>1</th>\n",
       "      <td>268590</td>\n",
       "      <td>1986-02-15</td>\n",
       "      <td>F</td>\n",
       "      <td>7.0</td>\n",
       "      <td>44613575638</td>\n",
       "      <td>268590</td>\n",
       "      <td>2012-12-25</td>\n",
       "      <td>7</td>\n",
       "      <td>5</td>\n",
       "      <td>4</td>\n",
       "      <td>347</td>\n",
       "      <td>145.74</td>\n",
       "      <td>1533.74</td>\n",
       "      <td>TeleShop</td>\n",
       "      <td>Books</td>\n",
       "      <td>Fiction</td>\n",
       "      <td>34.0</td>\n",
       "    </tr>\n",
       "    <tr>\n",
       "      <th>2</th>\n",
       "      <td>268590</td>\n",
       "      <td>1986-02-15</td>\n",
       "      <td>F</td>\n",
       "      <td>7.0</td>\n",
       "      <td>48414048504</td>\n",
       "      <td>268590</td>\n",
       "      <td>2011-08-05</td>\n",
       "      <td>7</td>\n",
       "      <td>5</td>\n",
       "      <td>1</td>\n",
       "      <td>140</td>\n",
       "      <td>14.70</td>\n",
       "      <td>154.70</td>\n",
       "      <td>TeleShop</td>\n",
       "      <td>Books</td>\n",
       "      <td>Fiction</td>\n",
       "      <td>34.0</td>\n",
       "    </tr>\n",
       "  </tbody>\n",
       "</table>\n",
       "</div>"
      ],
      "text/plain": [
       "   customer_Id        DOB Gender  city_code  transaction_id  cust_id  \\\n",
       "0       268590 1986-02-15      F        7.0      6979985894   268590   \n",
       "1       268590 1986-02-15      F        7.0     44613575638   268590   \n",
       "2       268590 1986-02-15      F        7.0     48414048504   268590   \n",
       "\n",
       "   tran_date  prod_subcat_code  prod_cat_code  Qty  Rate     Tax  total_amt  \\\n",
       "0 2013-01-23                 7              5    1   128   13.44     141.44   \n",
       "1 2012-12-25                 7              5    4   347  145.74    1533.74   \n",
       "2 2011-08-05                 7              5    1   140   14.70     154.70   \n",
       "\n",
       "  Store_type prod_cat prod_subcat   Age  \n",
       "0        MBR    Books     Fiction  34.0  \n",
       "1   TeleShop    Books     Fiction  34.0  \n",
       "2   TeleShop    Books     Fiction  34.0  "
      ]
     },
     "execution_count": 180,
     "metadata": {},
     "output_type": "execute_result"
    }
   ],
   "source": [
    "age_25_35.head(3)"
   ]
  },
  {
   "cell_type": "code",
   "execution_count": 218,
   "metadata": {},
   "outputs": [
    {
     "data": {
      "text/html": [
       "<div>\n",
       "<style scoped>\n",
       "    .dataframe tbody tr th:only-of-type {\n",
       "        vertical-align: middle;\n",
       "    }\n",
       "\n",
       "    .dataframe tbody tr th {\n",
       "        vertical-align: top;\n",
       "    }\n",
       "\n",
       "    .dataframe thead th {\n",
       "        text-align: right;\n",
       "    }\n",
       "</style>\n",
       "<table border=\"1\" class=\"dataframe\">\n",
       "  <thead>\n",
       "    <tr style=\"text-align: right;\">\n",
       "      <th></th>\n",
       "      <th>total_amt</th>\n",
       "    </tr>\n",
       "    <tr>\n",
       "      <th>prod_cat</th>\n",
       "      <th></th>\n",
       "    </tr>\n",
       "  </thead>\n",
       "  <tbody>\n",
       "    <tr>\n",
       "      <th>Bags</th>\n",
       "      <td>1207176.035</td>\n",
       "    </tr>\n",
       "    <tr>\n",
       "      <th>Books</th>\n",
       "      <td>3673697.365</td>\n",
       "    </tr>\n",
       "    <tr>\n",
       "      <th>Clothing</th>\n",
       "      <td>2083332.745</td>\n",
       "    </tr>\n",
       "    <tr>\n",
       "      <th>Electronics</th>\n",
       "      <td>3322642.180</td>\n",
       "    </tr>\n",
       "    <tr>\n",
       "      <th>Footwear</th>\n",
       "      <td>1970462.520</td>\n",
       "    </tr>\n",
       "    <tr>\n",
       "      <th>Home and kitchen</th>\n",
       "      <td>2604086.095</td>\n",
       "    </tr>\n",
       "  </tbody>\n",
       "</table>\n",
       "</div>"
      ],
      "text/plain": [
       "                    total_amt\n",
       "prod_cat                     \n",
       "Bags              1207176.035\n",
       "Books             3673697.365\n",
       "Clothing          2083332.745\n",
       "Electronics       3322642.180\n",
       "Footwear          1970462.520\n",
       "Home and kitchen  2604086.095"
      ]
     },
     "execution_count": 218,
     "metadata": {},
     "output_type": "execute_result"
    }
   ],
   "source": [
    "# Way 1: Grouping over Product category\n",
    "\n",
    "res1 = age_25_35.groupby(['prod_cat'])[['total_amt']].sum()\n",
    "res1"
   ]
  },
  {
   "cell_type": "code",
   "execution_count": 219,
   "metadata": {
    "scrolled": true
   },
   "outputs": [
    {
     "data": {
      "text/plain": [
       "total_amt    6996339.545\n",
       "dtype: float64"
      ]
     },
     "execution_count": 219,
     "metadata": {},
     "output_type": "execute_result"
    }
   ],
   "source": [
    "res1.loc[['Electronics','Books'],:].sum()"
   ]
  },
  {
   "cell_type": "code",
   "execution_count": 196,
   "metadata": {},
   "outputs": [
    {
     "data": {
      "text/plain": [
       "6996339.545"
      ]
     },
     "execution_count": 196,
     "metadata": {},
     "output_type": "execute_result"
    }
   ],
   "source": [
    "# Way 2: \n",
    "age_25_35[(age_25_35.prod_cat == 'Electronics') | (age_25_35.prod_cat == 'Books')]['total_amt'].sum()"
   ]
  },
  {
   "cell_type": "code",
   "execution_count": 183,
   "metadata": {},
   "outputs": [
    {
     "name": "stdout",
     "output_type": "stream",
     "text": [
      "For all the customers aged between 25 - 35, the total amount spent on Electronics & Books product categories is 6996339.545.\n"
     ]
    }
   ],
   "source": [
    "print(\"For all the customers aged between 25 - 35, the total amount spent on Electronics & Books product categories is 6996339.545.\") "
   ]
  },
  {
   "cell_type": "markdown",
   "metadata": {},
   "source": [
    "--------------------------------------------"
   ]
  },
  {
   "cell_type": "markdown",
   "metadata": {},
   "source": [
    "### b. What was the total amount spent by these customers between 1st Jan, 2014 to 1st Mar, 2014?"
   ]
  },
  {
   "cell_type": "code",
   "execution_count": 191,
   "metadata": {
    "scrolled": true
   },
   "outputs": [
    {
     "data": {
      "text/plain": [
       "490488.505"
      ]
     },
     "execution_count": 191,
     "metadata": {},
     "output_type": "execute_result"
    }
   ],
   "source": [
    "# Way 1: \n",
    "age_25_35[(age_25_35.tran_date >= '2014-01-01') & (age_25_35.tran_date <= '2014-03-01')]['total_amt'].sum()"
   ]
  },
  {
   "cell_type": "code",
   "execution_count": 205,
   "metadata": {},
   "outputs": [
    {
     "data": {
      "text/html": [
       "<div>\n",
       "<style scoped>\n",
       "    .dataframe tbody tr th:only-of-type {\n",
       "        vertical-align: middle;\n",
       "    }\n",
       "\n",
       "    .dataframe tbody tr th {\n",
       "        vertical-align: top;\n",
       "    }\n",
       "\n",
       "    .dataframe thead th {\n",
       "        text-align: right;\n",
       "    }\n",
       "</style>\n",
       "<table border=\"1\" class=\"dataframe\">\n",
       "  <thead>\n",
       "    <tr style=\"text-align: right;\">\n",
       "      <th></th>\n",
       "      <th>tran_date</th>\n",
       "      <th>Sum_oftotal_amt</th>\n",
       "    </tr>\n",
       "  </thead>\n",
       "  <tbody>\n",
       "    <tr>\n",
       "      <th>0</th>\n",
       "      <td>2011-01-02</td>\n",
       "      <td>11631.230</td>\n",
       "    </tr>\n",
       "    <tr>\n",
       "      <th>1</th>\n",
       "      <td>2011-01-03</td>\n",
       "      <td>1919.385</td>\n",
       "    </tr>\n",
       "    <tr>\n",
       "      <th>2</th>\n",
       "      <td>2011-01-04</td>\n",
       "      <td>15665.585</td>\n",
       "    </tr>\n",
       "    <tr>\n",
       "      <th>3</th>\n",
       "      <td>2011-01-05</td>\n",
       "      <td>-516.035</td>\n",
       "    </tr>\n",
       "    <tr>\n",
       "      <th>4</th>\n",
       "      <td>2011-01-06</td>\n",
       "      <td>7649.915</td>\n",
       "    </tr>\n",
       "    <tr>\n",
       "      <th>...</th>\n",
       "      <td>...</td>\n",
       "      <td>...</td>\n",
       "    </tr>\n",
       "    <tr>\n",
       "      <th>1120</th>\n",
       "      <td>2014-10-02</td>\n",
       "      <td>13005.850</td>\n",
       "    </tr>\n",
       "    <tr>\n",
       "      <th>1121</th>\n",
       "      <td>2014-11-01</td>\n",
       "      <td>25022.725</td>\n",
       "    </tr>\n",
       "    <tr>\n",
       "      <th>1122</th>\n",
       "      <td>2014-11-02</td>\n",
       "      <td>8417.890</td>\n",
       "    </tr>\n",
       "    <tr>\n",
       "      <th>1123</th>\n",
       "      <td>2014-12-01</td>\n",
       "      <td>18064.540</td>\n",
       "    </tr>\n",
       "    <tr>\n",
       "      <th>1124</th>\n",
       "      <td>2014-12-02</td>\n",
       "      <td>8526.180</td>\n",
       "    </tr>\n",
       "  </tbody>\n",
       "</table>\n",
       "<p>1125 rows × 2 columns</p>\n",
       "</div>"
      ],
      "text/plain": [
       "      tran_date  Sum_oftotal_amt\n",
       "0    2011-01-02        11631.230\n",
       "1    2011-01-03         1919.385\n",
       "2    2011-01-04        15665.585\n",
       "3    2011-01-05         -516.035\n",
       "4    2011-01-06         7649.915\n",
       "...         ...              ...\n",
       "1120 2014-10-02        13005.850\n",
       "1121 2014-11-01        25022.725\n",
       "1122 2014-11-02         8417.890\n",
       "1123 2014-12-01        18064.540\n",
       "1124 2014-12-02         8526.180\n",
       "\n",
       "[1125 rows x 2 columns]"
      ]
     },
     "execution_count": 205,
     "metadata": {},
     "output_type": "execute_result"
    }
   ],
   "source": [
    "# Way 2:Grouping over Transacation dates:\n",
    "\n",
    "res2 = age_25_35.groupby(['tran_date'])[['total_amt']].sum().add_prefix('Sum_of').reset_index()\n",
    "res2"
   ]
  },
  {
   "cell_type": "code",
   "execution_count": 215,
   "metadata": {},
   "outputs": [
    {
     "data": {
      "text/plain": [
       "Sum_oftotal_amt    490488.505\n",
       "dtype: float64"
      ]
     },
     "execution_count": 215,
     "metadata": {},
     "output_type": "execute_result"
    }
   ],
   "source": [
    "res2[(res2.tran_date >= '2014-01-01') & (res2.tran_date <= '2014-03-01')].sum()"
   ]
  },
  {
   "cell_type": "code",
   "execution_count": 210,
   "metadata": {},
   "outputs": [
    {
     "name": "stdout",
     "output_type": "stream",
     "text": [
      "For all the customers aged between 25 - 35, the total amount spent by these customers between 1st Jan, 2014 to 1st Mar, 2014 is 490488.505.\n"
     ]
    }
   ],
   "source": [
    "print(\"For all the customers aged between 25 - 35, the total amount spent by these customers between 1st Jan, 2014 to 1st Mar, 2014 is 490488.505.\") "
   ]
  },
  {
   "cell_type": "markdown",
   "metadata": {},
   "source": [
    "--------------------------------------------"
   ]
  }
 ],
 "metadata": {
  "kernelspec": {
   "display_name": "Python 3",
   "language": "python",
   "name": "python3"
  },
  "language_info": {
   "codemirror_mode": {
    "name": "ipython",
    "version": 3
   },
   "file_extension": ".py",
   "mimetype": "text/x-python",
   "name": "python",
   "nbconvert_exporter": "python",
   "pygments_lexer": "ipython3",
   "version": "3.7.6"
  }
 },
 "nbformat": 4,
 "nbformat_minor": 4
}
