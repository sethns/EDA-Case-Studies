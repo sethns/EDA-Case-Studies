{
 "cells": [
  {
   "cell_type": "markdown",
   "metadata": {},
   "source": [
    "### Business Problem\n",
    "\n",
    "The cust_seg data set contains information of 200 customers who were part of the last campaign conducted by one of the major  Bank-credit card division. The CMO would like to test the following hypothesis based on the data. "
   ]
  },
  {
   "cell_type": "markdown",
   "metadata": {},
   "source": [
    "### Importing Libraries"
   ]
  },
  {
   "cell_type": "code",
   "execution_count": 3,
   "metadata": {},
   "outputs": [],
   "source": [
    "import numpy as np\n",
    "import pandas as pd"
   ]
  },
  {
   "cell_type": "code",
   "execution_count": 4,
   "metadata": {},
   "outputs": [],
   "source": [
    "import matplotlib.pyplot as plt\n",
    "import seaborn as sns\n",
    "%matplotlib inline"
   ]
  },
  {
   "cell_type": "code",
   "execution_count": 5,
   "metadata": {},
   "outputs": [],
   "source": [
    "import scipy.stats as stats"
   ]
  },
  {
   "cell_type": "markdown",
   "metadata": {},
   "source": [
    "### Importing the data"
   ]
  },
  {
   "cell_type": "code",
   "execution_count": 6,
   "metadata": {},
   "outputs": [
    {
     "data": {
      "text/html": [
       "<div>\n",
       "<style scoped>\n",
       "    .dataframe tbody tr th:only-of-type {\n",
       "        vertical-align: middle;\n",
       "    }\n",
       "\n",
       "    .dataframe tbody tr th {\n",
       "        vertical-align: top;\n",
       "    }\n",
       "\n",
       "    .dataframe thead th {\n",
       "        text-align: right;\n",
       "    }\n",
       "</style>\n",
       "<table border=\"1\" class=\"dataframe\">\n",
       "  <thead>\n",
       "    <tr style=\"text-align: right;\">\n",
       "      <th></th>\n",
       "      <th>custid</th>\n",
       "      <th>sex</th>\n",
       "      <th>AqChannel</th>\n",
       "      <th>region</th>\n",
       "      <th>Marital_status</th>\n",
       "      <th>segment</th>\n",
       "      <th>pre_usage</th>\n",
       "      <th>Post_usage_1month</th>\n",
       "      <th>Latest_mon_usage</th>\n",
       "      <th>post_usage_2ndmonth</th>\n",
       "    </tr>\n",
       "  </thead>\n",
       "  <tbody>\n",
       "    <tr>\n",
       "      <th>0</th>\n",
       "      <td>70</td>\n",
       "      <td>0</td>\n",
       "      <td>4</td>\n",
       "      <td>1</td>\n",
       "      <td>1</td>\n",
       "      <td>1</td>\n",
       "      <td>57</td>\n",
       "      <td>52</td>\n",
       "      <td>49.2</td>\n",
       "      <td>57.2</td>\n",
       "    </tr>\n",
       "    <tr>\n",
       "      <th>1</th>\n",
       "      <td>121</td>\n",
       "      <td>1</td>\n",
       "      <td>4</td>\n",
       "      <td>2</td>\n",
       "      <td>1</td>\n",
       "      <td>3</td>\n",
       "      <td>68</td>\n",
       "      <td>59</td>\n",
       "      <td>63.6</td>\n",
       "      <td>64.9</td>\n",
       "    </tr>\n",
       "    <tr>\n",
       "      <th>2</th>\n",
       "      <td>86</td>\n",
       "      <td>0</td>\n",
       "      <td>4</td>\n",
       "      <td>3</td>\n",
       "      <td>1</td>\n",
       "      <td>1</td>\n",
       "      <td>44</td>\n",
       "      <td>33</td>\n",
       "      <td>64.8</td>\n",
       "      <td>36.3</td>\n",
       "    </tr>\n",
       "    <tr>\n",
       "      <th>3</th>\n",
       "      <td>141</td>\n",
       "      <td>0</td>\n",
       "      <td>4</td>\n",
       "      <td>3</td>\n",
       "      <td>1</td>\n",
       "      <td>3</td>\n",
       "      <td>63</td>\n",
       "      <td>44</td>\n",
       "      <td>56.4</td>\n",
       "      <td>48.4</td>\n",
       "    </tr>\n",
       "    <tr>\n",
       "      <th>4</th>\n",
       "      <td>172</td>\n",
       "      <td>0</td>\n",
       "      <td>4</td>\n",
       "      <td>2</td>\n",
       "      <td>1</td>\n",
       "      <td>2</td>\n",
       "      <td>47</td>\n",
       "      <td>52</td>\n",
       "      <td>68.4</td>\n",
       "      <td>57.2</td>\n",
       "    </tr>\n",
       "  </tbody>\n",
       "</table>\n",
       "</div>"
      ],
      "text/plain": [
       "   custid  sex  AqChannel  region  Marital_status  segment  pre_usage  \\\n",
       "0      70    0          4       1               1        1         57   \n",
       "1     121    1          4       2               1        3         68   \n",
       "2      86    0          4       3               1        1         44   \n",
       "3     141    0          4       3               1        3         63   \n",
       "4     172    0          4       2               1        2         47   \n",
       "\n",
       "   Post_usage_1month  Latest_mon_usage  post_usage_2ndmonth  \n",
       "0                 52              49.2                 57.2  \n",
       "1                 59              63.6                 64.9  \n",
       "2                 33              64.8                 36.3  \n",
       "3                 44              56.4                 48.4  \n",
       "4                 52              68.4                 57.2  "
      ]
     },
     "execution_count": 6,
     "metadata": {},
     "output_type": "execute_result"
    }
   ],
   "source": [
    "df = pd.read_csv(\"cust_seg.csv\")\n",
    "df.head()"
   ]
  },
  {
   "cell_type": "code",
   "execution_count": 7,
   "metadata": {},
   "outputs": [
    {
     "data": {
      "text/plain": [
       "(200, 10)"
      ]
     },
     "execution_count": 7,
     "metadata": {},
     "output_type": "execute_result"
    }
   ],
   "source": [
    "# shape and info of the data:\n",
    "df.shape"
   ]
  },
  {
   "cell_type": "code",
   "execution_count": 9,
   "metadata": {},
   "outputs": [
    {
     "name": "stdout",
     "output_type": "stream",
     "text": [
      "<class 'pandas.core.frame.DataFrame'>\n",
      "RangeIndex: 200 entries, 0 to 199\n",
      "Data columns (total 10 columns):\n",
      " #   Column               Non-Null Count  Dtype  \n",
      "---  ------               --------------  -----  \n",
      " 0   custid               200 non-null    int64  \n",
      " 1   sex                  200 non-null    int64  \n",
      " 2   AqChannel            200 non-null    int64  \n",
      " 3   region               200 non-null    int64  \n",
      " 4   Marital_status       200 non-null    int64  \n",
      " 5   segment              200 non-null    int64  \n",
      " 6   pre_usage            200 non-null    int64  \n",
      " 7   Post_usage_1month    200 non-null    int64  \n",
      " 8   Latest_mon_usage     200 non-null    float64\n",
      " 9   post_usage_2ndmonth  200 non-null    float64\n",
      "dtypes: float64(2), int64(8)\n",
      "memory usage: 15.8 KB\n"
     ]
    }
   ],
   "source": [
    "df.info()"
   ]
  },
  {
   "cell_type": "markdown",
   "metadata": {},
   "source": [
    "From above, can see that there are no missing values in the data."
   ]
  },
  {
   "cell_type": "markdown",
   "metadata": {},
   "source": [
    "The hypothesis are as follows:"
   ]
  },
  {
   "cell_type": "markdown",
   "metadata": {},
   "source": [
    "### 1. Card usage has been improved significantly from last year usage which is 50. "
   ]
  },
  {
   "cell_type": "markdown",
   "metadata": {},
   "source": [
    "To test whether the card usage has improved from last year usage, shall conduct One-Sample T-Test.\n",
    "\n",
    "The null and alternative hypothesis:\n",
    "    \n",
    "    \n",
    "    H0: Lastest month usage = 50\n",
    "    (There is no improvement in the card usage from last year usage)\n",
    "    \n",
    "    H1: Lastest month usage = 50\n",
    "    (There is significant improvement in the card usage from last year usage)\n",
    "    \n",
    "We will conduct the test at 5% significance level. It's a one-tailed test."
   ]
  },
  {
   "cell_type": "code",
   "execution_count": 23,
   "metadata": {},
   "outputs": [
    {
     "data": {
      "text/plain": [
       "Ttest_1sampResult(statistic=16.57233752433133, pvalue=2.4963719280931583e-39)"
      ]
     },
     "execution_count": 23,
     "metadata": {},
     "output_type": "execute_result"
    }
   ],
   "source": [
    "# Performing the One Sample t-test:\n",
    "\n",
    "t1 = stats.ttest_1samp(a = df.Latest_mon_usage, popmean = 50)\n",
    "t1"
   ]
  },
  {
   "cell_type": "code",
   "execution_count": 27,
   "metadata": {},
   "outputs": [
    {
     "name": "stdout",
     "output_type": "stream",
     "text": [
      "The T-test-statistic is 16.57233752433133 and the p-value is 2.4963719280931583e-39.\n"
     ]
    }
   ],
   "source": [
    "print('The T-test-statistic is {} and the p-value is {}.' .format(t1[0], t1[1]))"
   ]
  },
  {
   "cell_type": "code",
   "execution_count": 28,
   "metadata": {},
   "outputs": [
    {
     "data": {
      "text/plain": [
       "False"
      ]
     },
     "execution_count": 28,
     "metadata": {},
     "output_type": "execute_result"
    }
   ],
   "source": [
    "# Checking if p-value is greater than 5% alpha:\n",
    "\n",
    "t1[1] > 0.05"
   ]
  },
  {
   "cell_type": "markdown",
   "metadata": {},
   "source": [
    "#### Conclusion:\n",
    "\n",
    "The p-value is less than 5% alpha hence we reject the null hypothesis. With 95% confidence can conclude that there is significant improvement in the card usage from last year usage. Therefore, it is statistically significant from 50."
   ]
  },
  {
   "cell_type": "markdown",
   "metadata": {},
   "source": [
    "----------"
   ]
  },
  {
   "cell_type": "markdown",
   "metadata": {},
   "source": [
    "### 2. The last campaign was successful in terms usage of credit card. \n"
   ]
  },
  {
   "cell_type": "markdown",
   "metadata": {},
   "source": [
    "To test whether the last campaign is successful in terms of usage of credit card, we need to check if the credit card usage after the campaign is greater than credit card usage before the campaign then can conclude it has been succcssful.\n",
    "\n",
    "\n",
    "Hence, shall conduct two tests, one test to compare the means of pre_usage & Post_usage_1month and second test to compare the means of pre_usage & Post_usage_2ndmonth\n",
    "\n",
    "#### Test 1: \n",
    "\n",
    "The null and alternative hypothesis:\n",
    "    \n",
    "    \n",
    "H0: Average usage of Credit Card in before campaign (pre_usage) == Average usage of Credit Card in the 1st month post campaign (post_usage_1month)\n",
    "         \n",
    "      (The campaign was not successful in the first month)\n",
    "    \n",
    "H1: Average usage of Credit Card in before campaign (pre_usage) < Average usage of Credit Card in the 1st month post campaign (post_usage_1month)\n",
    "     \n",
    "     (The campaign was successful in the first month)\n",
    "    \n",
    "We will conduct the Paired Two Sample t-test at 5% significance level. It's a one-tailed test."
   ]
  },
  {
   "cell_type": "code",
   "execution_count": 46,
   "metadata": {},
   "outputs": [
    {
     "name": "stdout",
     "output_type": "stream",
     "text": [
      "The average usage of credit card before the campaign is 52.23.\n",
      "The average usage of credit card one month post the campaign is 52.775.\n"
     ]
    }
   ],
   "source": [
    "print('The average usage of credit card before the campaign is {}.'.format(df.pre_usage.mean()))\n",
    "print('The average usage of credit card one month post the campaign is {}.'.format(df.Post_usage_1month.mean()))"
   ]
  },
  {
   "cell_type": "code",
   "execution_count": 34,
   "metadata": {},
   "outputs": [
    {
     "data": {
      "text/plain": [
       "Ttest_relResult(statistic=-0.8673065458794775, pvalue=0.3868186820914985)"
      ]
     },
     "execution_count": 34,
     "metadata": {},
     "output_type": "execute_result"
    }
   ],
   "source": [
    "# Paired Sample T-test for pre_usage and post_usage_1month\n",
    "t2 = stats.ttest_rel(df.pre_usage, df.Post_usage_1month)\n",
    "t2"
   ]
  },
  {
   "cell_type": "code",
   "execution_count": 36,
   "metadata": {},
   "outputs": [
    {
     "name": "stdout",
     "output_type": "stream",
     "text": [
      "The T-test statistic is -0.8673065458794775 and the p-value is 0.3868186820914985.\n"
     ]
    }
   ],
   "source": [
    "print('The T-test statistic is {} and the p-value is {}.'.format(t2[0], t2[1]))"
   ]
  },
  {
   "cell_type": "code",
   "execution_count": 37,
   "metadata": {},
   "outputs": [
    {
     "data": {
      "text/plain": [
       "True"
      ]
     },
     "execution_count": 37,
     "metadata": {},
     "output_type": "execute_result"
    }
   ],
   "source": [
    "# Checking if p-value is greater than 5% alpha:\n",
    "t2[1] > 0.05"
   ]
  },
  {
   "cell_type": "markdown",
   "metadata": {},
   "source": [
    "#### Conclusion for Test 1:\n",
    "\n",
    "The p-value is greater than 5% alpha, hence we fail to reject the null hypothesis. With 95% confidence can conclude that the average usage of credit card before the campaign  is equal to average usage of credit card in the 1st month post the campaign. Therefore, the campaign was not successful in the first month."
   ]
  },
  {
   "cell_type": "markdown",
   "metadata": {},
   "source": [
    "-------"
   ]
  },
  {
   "cell_type": "markdown",
   "metadata": {},
   "source": [
    "#### Test 2: \n",
    "\n",
    "The null and alternative hypothesis:\n",
    "    \n",
    "    \n",
    "H0: Average usage of Credit Card in before campaign (pre_usage) == Average usage of Credit Card in the 2nd month post campaign (post_usage_2ndmonth)\n",
    "    \n",
    "    (The campaign was not successful in the second month)\n",
    "    \n",
    "H1: Average usage of Credit Card in before campaign (pre_usage) < Average usage of Credit Card in the 2nd month post campaign (post_usage_2ndmonth)\n",
    "    \n",
    "    (The campaign was successful in the second month)\n",
    "    \n",
    "We will conduct the Paired Two Sample t-test at 5% significance level. It's a one-tailed test."
   ]
  },
  {
   "cell_type": "code",
   "execution_count": 47,
   "metadata": {},
   "outputs": [
    {
     "name": "stdout",
     "output_type": "stream",
     "text": [
      "The average usage of credit card before the campaign is 52.23.\n",
      "The average usage of credit card two months post the campaign is 58.05250000000003.\n"
     ]
    }
   ],
   "source": [
    "print('The average usage of credit card before the campaign is {}.'.format(df.pre_usage.mean()))\n",
    "print('The average usage of credit card two months post the campaign is {}.'.format(df.post_usage_2ndmonth.mean()))"
   ]
  },
  {
   "cell_type": "code",
   "execution_count": 38,
   "metadata": {},
   "outputs": [
    {
     "data": {
      "text/plain": [
       "Ttest_relResult(statistic=-8.866832246938742, pvalue=4.295733828012836e-16)"
      ]
     },
     "execution_count": 38,
     "metadata": {},
     "output_type": "execute_result"
    }
   ],
   "source": [
    "# Paired Sample T-test for pre_usage and post_usage_2ndmonth\n",
    "t3 = stats.ttest_rel(df.pre_usage, df.post_usage_2ndmonth)\n",
    "t3"
   ]
  },
  {
   "cell_type": "code",
   "execution_count": 39,
   "metadata": {},
   "outputs": [
    {
     "name": "stdout",
     "output_type": "stream",
     "text": [
      "The T-test statistic is -8.866832246938742 and the p-value is 4.295733828012836e-16.\n"
     ]
    }
   ],
   "source": [
    "print('The T-test statistic is {} and the p-value is {}.'.format(t3[0], t3[1]))"
   ]
  },
  {
   "cell_type": "code",
   "execution_count": 40,
   "metadata": {},
   "outputs": [
    {
     "data": {
      "text/plain": [
       "False"
      ]
     },
     "execution_count": 40,
     "metadata": {},
     "output_type": "execute_result"
    }
   ],
   "source": [
    "# checking if p-value is greater than 5% alpha:\n",
    "t3[1] > 0.05"
   ]
  },
  {
   "cell_type": "markdown",
   "metadata": {},
   "source": [
    "#### Conclusion for Test 2:\n",
    "\n",
    "The p-value is less than 5% alpha, hence we reject the null hypothesis. With 95% confidence can conclude that the average usage of credit card before the campaign  is less than the average usage of credit card in the 2nd month post the campaign. Therefore, the campaign was successful in the second month."
   ]
  },
  {
   "cell_type": "markdown",
   "metadata": {},
   "source": [
    "--------------"
   ]
  },
  {
   "cell_type": "markdown",
   "metadata": {},
   "source": [
    "### 3. Is there any difference between males & females in terms of credit card usage?"
   ]
  },
  {
   "cell_type": "markdown",
   "metadata": {},
   "source": [
    "To test for the difference in credit card between males and females, shall compare the means for Latest month card usage for males and females. \n",
    "\n",
    "The null and alternative hypothesis:\n",
    "    \n",
    "\n",
    "H0: Average usage of Credit Card for Latest Month for Males == Average usage of Credit Card for Latest Month for Females\n",
    "         \n",
    "         (There is no difference in the credit card usage for males and females.)\n",
    "        \n",
    "H1: Average usage of Credit Card for Latest Month for Males <> Average usage of Credit Card for Latest Month for Females\n",
    "        \n",
    "        (There is difference in the credit card usage for males and females.)\n",
    "    \n",
    "\n",
    "We will conduct the Two sample Independent T-Test at 5% significance level. It's a two-tailed test."
   ]
  },
  {
   "cell_type": "code",
   "execution_count": 49,
   "metadata": {},
   "outputs": [],
   "source": [
    "# Step 1: Getting the respective data:\n",
    "male_usage = df.Latest_mon_usage.loc[df.sex == 0]\n",
    "female_usage = df.Latest_mon_usage.loc[df.sex == 1]"
   ]
  },
  {
   "cell_type": "code",
   "execution_count": 50,
   "metadata": {},
   "outputs": [
    {
     "name": "stdout",
     "output_type": "stream",
     "text": [
      "The average of latest month credit card usgae for males is 63.53406593406595.\n",
      "The average of latest month credit card usgae for females is 62.87339449541283.\n"
     ]
    }
   ],
   "source": [
    "print('The average of latest month credit card usgae for males is {}.'.format(male_usage.mean()))\n",
    "print('The average of latest month credit card usgae for females is {}.'.format(female_usage.mean()))"
   ]
  },
  {
   "cell_type": "code",
   "execution_count": 52,
   "metadata": {},
   "outputs": [
    {
     "data": {
      "text/plain": [
       "Ttest_indResult(statistic=0.41299864929687874, pvalue=0.680054497423219)"
      ]
     },
     "execution_count": 52,
     "metadata": {},
     "output_type": "execute_result"
    }
   ],
   "source": [
    "#  Step 2: Perform the test:\n",
    "\n",
    "# Testing Under the assumption that Male credit card usage and female credit card usage have equal variance:\n",
    "\n",
    "equal_var_cc = stats.ttest_ind(male_usage, female_usage, equal_var = True)\n",
    "equal_var_cc\n"
   ]
  },
  {
   "cell_type": "code",
   "execution_count": 53,
   "metadata": {},
   "outputs": [
    {
     "data": {
      "text/plain": [
       "Ttest_indResult(statistic=0.41096501169154154, pvalue=0.6815673012471315)"
      ]
     },
     "execution_count": 53,
     "metadata": {},
     "output_type": "execute_result"
    }
   ],
   "source": [
    "#  Testing Under the assumption that Male credit card usage and female credit card usage do not have equal variance:\n",
    "\n",
    "unequal_var_cc = stats.ttest_ind(male_usage, female_usage, equal_var = False)\n",
    "unequal_var_cc"
   ]
  },
  {
   "cell_type": "code",
   "execution_count": 54,
   "metadata": {},
   "outputs": [
    {
     "data": {
      "text/plain": [
       "0.002033637605337202"
      ]
     },
     "execution_count": 54,
     "metadata": {},
     "output_type": "execute_result"
    }
   ],
   "source": [
    "# difference in the statistic for equal and unequal variance:\n",
    "\n",
    "equal_var_cc[0] - unequal_var_cc[0]"
   ]
  },
  {
   "cell_type": "markdown",
   "metadata": {},
   "source": [
    "As the difference between equal variance statistic and unequal variance statistic is very less, almost negligible, hence we would conduct the test under equal variance assumption."
   ]
  },
  {
   "cell_type": "code",
   "execution_count": 56,
   "metadata": {},
   "outputs": [
    {
     "name": "stdout",
     "output_type": "stream",
     "text": [
      "The T-test statistics is 0.41299864929687874 and the p-value is 0.680054497423219.\n"
     ]
    }
   ],
   "source": [
    "print('The T-test statistics is {} and the p-value is {}.'.format(equal_var_cc[0], equal_var_cc[1]))"
   ]
  },
  {
   "cell_type": "code",
   "execution_count": 57,
   "metadata": {},
   "outputs": [
    {
     "data": {
      "text/plain": [
       "True"
      ]
     },
     "execution_count": 57,
     "metadata": {},
     "output_type": "execute_result"
    }
   ],
   "source": [
    "# Checking if the p-value is greater than 5% alpha:\n",
    "\n",
    "equal_var_cc[1] > 0.05"
   ]
  },
  {
   "cell_type": "markdown",
   "metadata": {},
   "source": [
    "#### Conclusion:\n",
    "\n",
    "The p-value is greater than 5% alpha, hence we fail to reject the null hypothesis. With 95% confidence can conclude that the average usage of credit card for males is equal to average usage of credit card for females. Therefore, there is no difference between males and females in terms of credit card usage."
   ]
  },
  {
   "cell_type": "markdown",
   "metadata": {},
   "source": [
    "-------------"
   ]
  },
  {
   "cell_type": "markdown",
   "metadata": {},
   "source": [
    "### 4. Is there any difference between segments of customers in terms of credit card usage?"
   ]
  },
  {
   "cell_type": "markdown",
   "metadata": {},
   "source": [
    "To test for the difference in the credit card usage between the segments, shall compare the means for Latest month card usage between the segments. \n",
    "\n",
    "The null and alternative hypothesis:\n",
    "\n",
    " H0: Average usage of Credit Card for Latest Month for Segment 1 == Average usage of Credit Card for Latest Month for Segment 2 == Average usage of Credit Card for Latest Month for Segment 3\n",
    "    \n",
    "            mean of Latest_mon_usage for Segment 1 == mean of Latest_mon_usage for Segment 2\n",
    "                       == mean of Latest_mon_usage for Segment 3\n",
    "            \n",
    "               (There is no influence of segments on latest month credit card usage)\n",
    "        \n",
    "\n",
    "H1: Average usage of Credit Card for Latest Month for Segment 1 <> Average usage of Credit Card for Latest Month for Segment 2 <> Average usage of Credit Card for Latest Month for Segment 3\n",
    "        \n",
    "          mean of Latest_mon_usage for Segment 1 <> mean of Latest_mon_usage for Segment 2\n",
    "                       <> mean of Latest_mon_usage for Segment 3\n",
    "            \n",
    "                (There is influence of segments on latest month credit card usage)\n",
    "    \n",
    "\n",
    "We will conduct the ANOVA test at 5% significance level. This is a one-tailed test as ANOVA is based on F-Test, which is asymmetrical distribution, hence has only one-tail."
   ]
  },
  {
   "cell_type": "code",
   "execution_count": 62,
   "metadata": {},
   "outputs": [],
   "source": [
    "# Step 1: Get the respective data:\n",
    "\n",
    "seg1 = df.Latest_mon_usage.loc[df.segment == 1]\n",
    "seg2 = df.Latest_mon_usage.loc[df.segment == 2]\n",
    "seg3 = df.Latest_mon_usage.loc[df.segment == 3]"
   ]
  },
  {
   "cell_type": "code",
   "execution_count": 75,
   "metadata": {},
   "outputs": [
    {
     "name": "stdout",
     "output_type": "stream",
     "text": [
      "The average of latest month credit card usgae for Segment 1 is 60.026666666666685.\n",
      "The average of latest month credit card usgae for Segment 2 68.08000000000003.\n",
      "The average of latest month credit card usgae for Segment 3 55.703999999999986.\n"
     ]
    }
   ],
   "source": [
    "print('The average of latest month credit card usgae for Segment 1 is {}.'.format(seg1.mean()))\n",
    "print('The average of latest month credit card usgae for Segment 2 {}.'.format(seg2.mean()))\n",
    "print('The average of latest month credit card usgae for Segment 3 {}.'.format(seg3.mean()))"
   ]
  },
  {
   "cell_type": "code",
   "execution_count": 81,
   "metadata": {},
   "outputs": [
    {
     "data": {
      "image/png": "[encoded data removed]",
      "text/plain": [
       "<Figure size 432x432 with 1 Axes>"
      ]
     },
     "metadata": {
      "needs_background": "light"
     },
     "output_type": "display_data"
    }
   ],
   "source": [
    "# plotting the Credit Card usage for all the Segments:\n",
    "plt.figure(figsize=(6,6))\n",
    "sns.kdeplot(seg1, color = 'r')\n",
    "sns.kdeplot(seg2, color = 'purple')\n",
    "sns.kdeplot(seg3, color = 'k')\n",
    "plt.title('Distribution of Credit Card usage for all the Segments')\n",
    "plt.show()"
   ]
  },
  {
   "cell_type": "code",
   "execution_count": 63,
   "metadata": {},
   "outputs": [
    {
     "data": {
      "text/plain": [
       "F_onewayResult(statistic=29.279283801321778, pvalue=7.36401083352674e-12)"
      ]
     },
     "execution_count": 63,
     "metadata": {},
     "output_type": "execute_result"
    }
   ],
   "source": [
    "# Step 2: Perform ANOVA Test:\n",
    "\n",
    "t4 = stats.f_oneway(seg1, seg2, seg3)\n",
    "t4"
   ]
  },
  {
   "cell_type": "code",
   "execution_count": 65,
   "metadata": {
    "scrolled": true
   },
   "outputs": [
    {
     "name": "stdout",
     "output_type": "stream",
     "text": [
      "The test statistic is 29.279283801321778 and the p-value is 7.36401083352674e-12.\n"
     ]
    }
   ],
   "source": [
    "print('The test statistic is {} and the p-value is {}.'.format(t4[0], t4[1]))"
   ]
  },
  {
   "cell_type": "code",
   "execution_count": 66,
   "metadata": {},
   "outputs": [
    {
     "data": {
      "text/plain": [
       "False"
      ]
     },
     "execution_count": 66,
     "metadata": {},
     "output_type": "execute_result"
    }
   ],
   "source": [
    "# Checking if p value is greater than 5% alpha\n",
    "t4[1] > 0.05"
   ]
  },
  {
   "cell_type": "markdown",
   "metadata": {},
   "source": [
    "#### Conclusion:\n",
    "\n",
    "The p-value is less than 5% alpha, hence we reject the null hypothesis. With 95% confidence can conclude that the average usage of credit card between segments 1, 2 and 3 are not same. Therefore, there is statisical significance between the segments in terms of credit card usage meaning the segments do impact the credit card usage."
   ]
  },
  {
   "cell_type": "markdown",
   "metadata": {},
   "source": [
    "---------------"
   ]
  },
  {
   "cell_type": "markdown",
   "metadata": {},
   "source": [
    "### 5. Is there any relation between region & Segment?"
   ]
  },
  {
   "cell_type": "markdown",
   "metadata": {},
   "source": [
    "To test for the relationship between the region and segment, shall condut Chi-Square Test as both are categorical variables.The null and alternative hypothesis:\n",
    "\n",
    "\n",
    "    H0: Observed values == Expected values\n",
    "           (There is no relationship between regions and segments.)\n",
    "           \n",
    "    H1: Observed values <> Expected values\n",
    "           (There is relationship between regions and segments.)\n",
    "            \n",
    "We will conduct the test at 5% significance level. This is a one-tailed test as Chi-Square dis is based only on one-tailed."
   ]
  },
  {
   "cell_type": "code",
   "execution_count": 69,
   "metadata": {},
   "outputs": [
    {
     "data": {
      "text/html": [
       "<div>\n",
       "<style scoped>\n",
       "    .dataframe tbody tr th:only-of-type {\n",
       "        vertical-align: middle;\n",
       "    }\n",
       "\n",
       "    .dataframe tbody tr th {\n",
       "        vertical-align: top;\n",
       "    }\n",
       "\n",
       "    .dataframe thead th {\n",
       "        text-align: right;\n",
       "    }\n",
       "</style>\n",
       "<table border=\"1\" class=\"dataframe\">\n",
       "  <thead>\n",
       "    <tr style=\"text-align: right;\">\n",
       "      <th>segment</th>\n",
       "      <th>1</th>\n",
       "      <th>2</th>\n",
       "      <th>3</th>\n",
       "    </tr>\n",
       "    <tr>\n",
       "      <th>region</th>\n",
       "      <th></th>\n",
       "      <th></th>\n",
       "      <th></th>\n",
       "    </tr>\n",
       "  </thead>\n",
       "  <tbody>\n",
       "    <tr>\n",
       "      <th>1</th>\n",
       "      <td>16</td>\n",
       "      <td>19</td>\n",
       "      <td>12</td>\n",
       "    </tr>\n",
       "    <tr>\n",
       "      <th>2</th>\n",
       "      <td>20</td>\n",
       "      <td>44</td>\n",
       "      <td>31</td>\n",
       "    </tr>\n",
       "    <tr>\n",
       "      <th>3</th>\n",
       "      <td>9</td>\n",
       "      <td>42</td>\n",
       "      <td>7</td>\n",
       "    </tr>\n",
       "  </tbody>\n",
       "</table>\n",
       "</div>"
      ],
      "text/plain": [
       "segment   1   2   3\n",
       "region             \n",
       "1        16  19  12\n",
       "2        20  44  31\n",
       "3         9  42   7"
      ]
     },
     "execution_count": 69,
     "metadata": {},
     "output_type": "execute_result"
    }
   ],
   "source": [
    "# Step 1: Create the crosstab for the observed values for Region and Segment:\n",
    "\n",
    "table = pd.crosstab(df.region, df.segment)\n",
    "table"
   ]
  },
  {
   "cell_type": "code",
   "execution_count": 70,
   "metadata": {},
   "outputs": [
    {
     "data": {
      "text/plain": [
       "(16.604441649489342,\n",
       " 0.0023066300908054713,\n",
       " 4,\n",
       " array([[10.575, 24.675, 11.75 ],\n",
       "        [21.375, 49.875, 23.75 ],\n",
       "        [13.05 , 30.45 , 14.5  ]]))"
      ]
     },
     "execution_count": 70,
     "metadata": {},
     "output_type": "execute_result"
    }
   ],
   "source": [
    "# Step 2: Perform the Chi-Square Test:\n",
    "\n",
    "t3 = stats.chi2_contingency(observed = table)\n",
    "t3"
   ]
  },
  {
   "cell_type": "code",
   "execution_count": 71,
   "metadata": {},
   "outputs": [
    {
     "name": "stdout",
     "output_type": "stream",
     "text": [
      "The Chi-Square test statistic is 16.604441649489342 and the p-value is 0.0023066300908054713.\n"
     ]
    }
   ],
   "source": [
    "print('The Chi-Square test statistic is {} and the p-value is {}.'.format(t3[0], t3[1]))"
   ]
  },
  {
   "cell_type": "code",
   "execution_count": 72,
   "metadata": {},
   "outputs": [
    {
     "data": {
      "text/plain": [
       "False"
      ]
     },
     "execution_count": 72,
     "metadata": {},
     "output_type": "execute_result"
    }
   ],
   "source": [
    "# Checking if p-value is greater than 5% alpha:\n",
    "\n",
    "t3[1] > 0.05 "
   ]
  },
  {
   "cell_type": "markdown",
   "metadata": {},
   "source": [
    "#### Conclusion:\n",
    "\n",
    "The p-value is less than 5% alpha, hence we reject the null hypothesis. With 95% confidence can conclude that there is relationship between the region and segments. Therefore, is statistically significant."
   ]
  },
  {
   "cell_type": "markdown",
   "metadata": {},
   "source": [
    "---------------"
   ]
  },
  {
   "cell_type": "markdown",
   "metadata": {},
   "source": [
    "### 6. Is the relationship between card usage in the latest month and pre usage of campaign?"
   ]
  },
  {
   "cell_type": "markdown",
   "metadata": {},
   "source": [
    "To check for the relationship between card usage in the latest month and pre-usage of campaign, shall conduct Pearson Correlation test as both the features are numerical. \n",
    "\n",
    "The null and alternative hypothesis:\n",
    "    \n",
    "    \n",
    "    H0: There is relationship between card usage in the latest month and pre-usage of campaign\n",
    "    H1: There is no relationship between card usage in the latest month and pre-usage of campaign\n",
    "    \n",
    "We will conduct the test at 5% significance level. It is a two-tailed test."
   ]
  },
  {
   "cell_type": "code",
   "execution_count": 90,
   "metadata": {},
   "outputs": [
    {
     "data": {
      "text/plain": [
       "(0.6622801251558603, 1.2767419295069521e-26)"
      ]
     },
     "execution_count": 90,
     "metadata": {},
     "output_type": "execute_result"
    }
   ],
   "source": [
    "# Performing the Pearson correlation test:\n",
    "t6 = stats.pearsonr(df.Latest_mon_usage, df.pre_usage)\n",
    "t6"
   ]
  },
  {
   "cell_type": "code",
   "execution_count": 91,
   "metadata": {},
   "outputs": [
    {
     "name": "stdout",
     "output_type": "stream",
     "text": [
      "The test statistics is (0.6622801251558603, 1.2767419295069521e-26) and the p value is 1.2767419295069521e-26\n"
     ]
    }
   ],
   "source": [
    "print(\"The test statistics is {} and the p value is {}\".format(t6, t6[1]))"
   ]
  },
  {
   "cell_type": "code",
   "execution_count": 92,
   "metadata": {},
   "outputs": [
    {
     "data": {
      "text/plain": [
       "False"
      ]
     },
     "execution_count": 92,
     "metadata": {},
     "output_type": "execute_result"
    }
   ],
   "source": [
    "# checking if pvalue is greater than 5% alpha\n",
    "t6[1] > 0.05"
   ]
  },
  {
   "cell_type": "markdown",
   "metadata": {},
   "source": [
    "#### Conclusion:\n",
    "\n",
    "The p-value is less than 5% alpha, hence we reject the null hypothesis. With 95% confidence can conclude that there is relationship between card usage in the latest month and pre-usage of campaign. Therefore, is statistically significant."
   ]
  },
  {
   "cell_type": "markdown",
   "metadata": {},
   "source": [
    "#### Scatter Plot to depict relationship between Latest Month usage and Pre usage of Campaign"
   ]
  },
  {
   "cell_type": "code",
   "execution_count": 99,
   "metadata": {},
   "outputs": [
    {
     "data": {
      "image/png": "[encoded data removed]",
      "text/plain": [
       "<Figure size 360x360 with 1 Axes>"
      ]
     },
     "metadata": {
      "needs_background": "light"
     },
     "output_type": "display_data"
    }
   ],
   "source": [
    "sns.lmplot(x = \"Latest_mon_usage\", y = \"pre_usage\",data = df)\n",
    "plt.title('Linear Relationship between Latest Month Usage and Pre-Usage of Campaign')\n",
    "plt.show()"
   ]
  },
  {
   "cell_type": "markdown",
   "metadata": {},
   "source": [
    "-----------------\n"
   ]
  }
 ],
 "metadata": {
  "anaconda-cloud": {},
  "kernelspec": {
   "display_name": "Python 3",
   "language": "python",
   "name": "python3"
  },
  "language_info": {
   "codemirror_mode": {
    "name": "ipython",
    "version": 3
   },
   "file_extension": ".py",
   "mimetype": "text/x-python",
   "name": "python",
   "nbconvert_exporter": "python",
   "pygments_lexer": "ipython3",
   "version": "3.7.6"
  }
 },
 "nbformat": 4,
 "nbformat_minor": 1
}
