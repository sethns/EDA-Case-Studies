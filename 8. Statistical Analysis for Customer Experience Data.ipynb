{
 "cells": [
  {
   "cell_type": "markdown",
   "metadata": {},
   "source": [
    "### Business Problem\n",
    "This is a peer comparison project. Suppose that you are working for Samsung in customer experience management team. The idea is to regularly monitor the customer satisfaction levels and peer company moves. The competitor company is Apple. The objective is to test two main hypothesis.\n",
    "\n",
    "1. The Samsung Average customer satisfaction score is  minimum 75%.  \n",
    "2. The overall average satisfaction score of Samsung is same  as Apple. There is no significant difference in the satisfaction  scores \n",
    "\n",
    "It might be possible that both hypothesis are correct, one of them is correct or both of them are wrong. Perform the\n",
    "relevant testing to verify these assumptions. The data is collected for 100 Samsung customers and 100 Apple customers. Their satisfaction scores are recorded. The sample represent the data and it is unbiased."
   ]
  },
  {
   "cell_type": "markdown",
   "metadata": {},
   "source": [
    "### Importing Libraries"
   ]
  },
  {
   "cell_type": "code",
   "execution_count": 1,
   "metadata": {},
   "outputs": [],
   "source": [
    "import numpy as np\n",
    "import pandas as pd\n",
    "import scipy.stats as stats"
   ]
  },
  {
   "cell_type": "markdown",
   "metadata": {},
   "source": [
    "### Importing the Data"
   ]
  },
  {
   "cell_type": "code",
   "execution_count": 2,
   "metadata": {},
   "outputs": [
    {
     "data": {
      "text/html": [
       "<div>\n",
       "<style scoped>\n",
       "    .dataframe tbody tr th:only-of-type {\n",
       "        vertical-align: middle;\n",
       "    }\n",
       "\n",
       "    .dataframe tbody tr th {\n",
       "        vertical-align: top;\n",
       "    }\n",
       "\n",
       "    .dataframe thead th {\n",
       "        text-align: right;\n",
       "    }\n",
       "</style>\n",
       "<table border=\"1\" class=\"dataframe\">\n",
       "  <thead>\n",
       "    <tr style=\"text-align: right;\">\n",
       "      <th></th>\n",
       "      <th>Sr No</th>\n",
       "      <th>S_Cust_id</th>\n",
       "      <th>Samsung Score</th>\n",
       "      <th>Apple_Cust_id</th>\n",
       "      <th>Apple_Score</th>\n",
       "    </tr>\n",
       "  </thead>\n",
       "  <tbody>\n",
       "    <tr>\n",
       "      <th>0</th>\n",
       "      <td>1</td>\n",
       "      <td>S336499</td>\n",
       "      <td>94</td>\n",
       "      <td>A336525</td>\n",
       "      <td>82</td>\n",
       "    </tr>\n",
       "    <tr>\n",
       "      <th>1</th>\n",
       "      <td>2</td>\n",
       "      <td>S73004</td>\n",
       "      <td>99</td>\n",
       "      <td>A73011</td>\n",
       "      <td>83</td>\n",
       "    </tr>\n",
       "    <tr>\n",
       "      <th>2</th>\n",
       "      <td>3</td>\n",
       "      <td>S79537</td>\n",
       "      <td>74</td>\n",
       "      <td>A79538</td>\n",
       "      <td>88</td>\n",
       "    </tr>\n",
       "    <tr>\n",
       "      <th>3</th>\n",
       "      <td>4</td>\n",
       "      <td>S769168</td>\n",
       "      <td>74</td>\n",
       "      <td>A769222</td>\n",
       "      <td>80</td>\n",
       "    </tr>\n",
       "    <tr>\n",
       "      <th>4</th>\n",
       "      <td>5</td>\n",
       "      <td>S609791</td>\n",
       "      <td>83</td>\n",
       "      <td>A609801</td>\n",
       "      <td>74</td>\n",
       "    </tr>\n",
       "  </tbody>\n",
       "</table>\n",
       "</div>"
      ],
      "text/plain": [
       "   Sr No S_Cust_id  Samsung Score Apple_Cust_id  Apple_Score\n",
       "0      1   S336499             94       A336525           82\n",
       "1      2    S73004             99        A73011           83\n",
       "2      3    S79537             74        A79538           88\n",
       "3      4   S769168             74       A769222           80\n",
       "4      5   S609791             83       A609801           74"
      ]
     },
     "execution_count": 2,
     "metadata": {},
     "output_type": "execute_result"
    }
   ],
   "source": [
    "testcase = pd.read_csv('Testing_Of_Hypothesis.csv')\n",
    "testcase.head()"
   ]
  },
  {
   "cell_type": "code",
   "execution_count": 3,
   "metadata": {},
   "outputs": [
    {
     "data": {
      "text/plain": [
       "(100, 5)"
      ]
     },
     "execution_count": 3,
     "metadata": {},
     "output_type": "execute_result"
    }
   ],
   "source": [
    "# shape of the data: \n",
    "testcase.shape"
   ]
  },
  {
   "cell_type": "code",
   "execution_count": 4,
   "metadata": {},
   "outputs": [
    {
     "data": {
      "text/plain": [
       "Sr No            0\n",
       "S_Cust_id        0\n",
       "Samsung Score    0\n",
       "Apple_Cust_id    0\n",
       "Apple_Score      0\n",
       "dtype: int64"
      ]
     },
     "execution_count": 4,
     "metadata": {},
     "output_type": "execute_result"
    }
   ],
   "source": [
    "# checking for missing values:\n",
    "testcase.isnull().sum()"
   ]
  },
  {
   "cell_type": "markdown",
   "metadata": {},
   "source": [
    "### 1. The Samsung Average customer satisfaction score is minimum 75%.\n"
   ]
  },
  {
   "cell_type": "markdown",
   "metadata": {},
   "source": [
    "Testing to check whether the average customer satiscation score for Samsung is atleast 75%.\n",
    "\n",
    "There is only one sample here: Average customer satisfaction score of Samsung, hence would conduct One Sample T-Test and is one tailed T-Test.\n",
    "\n",
    "Null Hypothesis and Alternative Hypothesis as:\n",
    "\n",
    "H0: Samsung Avg Customer Satisfaction score <= 75%\\\n",
    "H1: Samsung Avg Customer Satisfaction score > 75%\n",
    "\n",
    "Alpha = 5%"
   ]
  },
  {
   "cell_type": "code",
   "execution_count": 6,
   "metadata": {},
   "outputs": [
    {
     "data": {
      "text/plain": [
       "84.9"
      ]
     },
     "execution_count": 6,
     "metadata": {},
     "output_type": "execute_result"
    }
   ],
   "source": [
    "Samsung_score = testcase['Samsung Score'].mean()\n",
    "Samsung_score"
   ]
  },
  {
   "cell_type": "code",
   "execution_count": 7,
   "metadata": {},
   "outputs": [
    {
     "data": {
      "text/plain": [
       "63.675000000000004"
      ]
     },
     "execution_count": 7,
     "metadata": {},
     "output_type": "execute_result"
    }
   ],
   "source": [
    "population_mean = Samsung_score*0.75\n",
    "population_mean "
   ]
  },
  {
   "cell_type": "code",
   "execution_count": 8,
   "metadata": {
    "scrolled": false
   },
   "outputs": [
    {
     "data": {
      "text/plain": [
       "Ttest_1sampResult(statistic=17.91966173190184, pvalue=7.714674273163621e-33)"
      ]
     },
     "execution_count": 8,
     "metadata": {},
     "output_type": "execute_result"
    }
   ],
   "source": [
    "stats.ttest_1samp(a = testcase['Samsung Score'], popmean = 63.675000000000004)"
   ]
  },
  {
   "cell_type": "code",
   "execution_count": 9,
   "metadata": {},
   "outputs": [
    {
     "name": "stdout",
     "output_type": "stream",
     "text": [
      "The p-value is 7.714674273163621e-33 and T-score is 17.92.\n"
     ]
    }
   ],
   "source": [
    "# Step 1:  Finding the t-score and p-value for the test:\n",
    "\n",
    "ttest = stats.ttest_1samp(a = testcase['Samsung Score'], popmean = 63.675000000000004)\n",
    "\n",
    "tscore = round(ttest.statistic,2)\n",
    "p_value = ttest.pvalue\n",
    "\n",
    "print(\"The p-value is {} and T-score is {}.\".format(p_value, tscore))\n"
   ]
  },
  {
   "cell_type": "code",
   "execution_count": 10,
   "metadata": {},
   "outputs": [
    {
     "data": {
      "text/plain": [
       "False"
      ]
     },
     "execution_count": 10,
     "metadata": {},
     "output_type": "execute_result"
    }
   ],
   "source": [
    "# Checking if p-value is more than 5% alpha:\n",
    "\n",
    "p_value > 0.05"
   ]
  },
  {
   "cell_type": "code",
   "execution_count": 11,
   "metadata": {},
   "outputs": [
    {
     "data": {
      "text/plain": [
       "84.9"
      ]
     },
     "execution_count": 11,
     "metadata": {},
     "output_type": "execute_result"
    }
   ],
   "source": [
    "# Step 2: Checking the values of the sample and population mean:\n",
    "\n",
    "population_mean = 63.675000000000004\n",
    "\n",
    "sample_mean = testcase['Samsung Score'].mean()\n",
    "sample_mean"
   ]
  },
  {
   "cell_type": "markdown",
   "metadata": {},
   "source": [
    "#### Conclusion from Step 1: \n",
    "\n",
    "p-value =  4.0739777034636007e-13 is less than the alpha of 5%, hence with 95% confidence will reject the Null Hypothesis of the avg customer satisfacton score is minimum 75%.\n",
    "\n",
    "#### Conclusion from Step 2 :\n",
    "\n",
    "For us to conclude, whether the average customer satisfaction score is more than 75% for Samsung, we would need to check the values of the sample mean and population mean.\n",
    "\n",
    "As above, the sample_mean > population_mean, hence the average customer satisfaction score for Samsung is significantly more than 75%.\n",
    "\n",
    "\n"
   ]
  },
  {
   "cell_type": "markdown",
   "metadata": {},
   "source": [
    "---------------------------------------------"
   ]
  },
  {
   "cell_type": "markdown",
   "metadata": {},
   "source": [
    "### 2. The overall average satisfaction score of Samsung is same as Apple. There is no significant difference in the satisfaction scores"
   ]
  },
  {
   "cell_type": "markdown",
   "metadata": {},
   "source": [
    "Testing to check whether the average customer satiscation score for Samsung is same as that of Apple's.\n",
    "\n",
    "There is two samples here: Average customer satisfaction score of Samsung and of Apple, hence would conduct Two Sample T-Test and is two tailed T-Test.\n",
    "\n",
    "Null Hypothesis and Alternative Hypothesis as:\n",
    "\n",
    "H0: Samsung Avg Customer Satisfaction score == Apple Avg Customer Satisfaction score \\\n",
    "H1: Samsung Avg Customer Satisfaction score != Apple Avg Customer Satisfaction score \n",
    "    \n",
    "    \n",
    "\n",
    "Alpha = 5%"
   ]
  },
  {
   "cell_type": "code",
   "execution_count": 13,
   "metadata": {
    "scrolled": true
   },
   "outputs": [
    {
     "data": {
      "text/plain": [
       "87.81"
      ]
     },
     "execution_count": 13,
     "metadata": {},
     "output_type": "execute_result"
    }
   ],
   "source": [
    "Apple_score = testcase.Apple_Score.mean()\n",
    "Apple_score"
   ]
  },
  {
   "cell_type": "code",
   "execution_count": 18,
   "metadata": {},
   "outputs": [
    {
     "data": {
      "text/plain": [
       "84.9"
      ]
     },
     "execution_count": 18,
     "metadata": {},
     "output_type": "execute_result"
    }
   ],
   "source": [
    "Samsung_score = testcase['Samsung Score'].mean()\n",
    "Samsung_score"
   ]
  },
  {
   "cell_type": "code",
   "execution_count": 21,
   "metadata": {},
   "outputs": [
    {
     "name": "stdout",
     "output_type": "stream",
     "text": [
      "The average satisfaction scores of Samsung customers is 84.9.\n",
      "The average satisfaction scores of Apple customers is 87.81.\n"
     ]
    }
   ],
   "source": [
    "print(\"The average satisfaction scores of Samsung customers is {}.\".format(Samsung_score))\n",
    "print(\"The average satisfaction scores of Apple customers is {}.\".format(Apple_score))"
   ]
  },
  {
   "cell_type": "code",
   "execution_count": 15,
   "metadata": {},
   "outputs": [
    {
     "name": "stdout",
     "output_type": "stream",
     "text": [
      "The p-value is 0.0601 and t-score is 1.9.\n"
     ]
    }
   ],
   "source": [
    "# Conducting Two Sample Relative t-test\n",
    "\n",
    "t_test2 = stats.ttest_rel(a = testcase['Apple_Score'], b = testcase['Samsung Score'])\n",
    "\n",
    "tscore2 = round(t_test2.statistic,2)\n",
    "p_value2 = round(t_test2.pvalue,4)\n",
    "\n",
    "print('The p-value is {} and t-score is {}.'.format(p_value2, tscore2))"
   ]
  },
  {
   "cell_type": "markdown",
   "metadata": {},
   "source": [
    "#### Conclusion:\n",
    "    \n",
    "The p-value of 0.0601 is more than 5% alpha, hence, with 95% confidence we fail to reject Null Hypothesis and conclude there is no signficant difference between the Average Customer Satisifaction score of Samsung and Apple. The overall average customer satisfaction scores of both are same."
   ]
  },
  {
   "cell_type": "markdown",
   "metadata": {},
   "source": [
    "---------------------------------------------"
   ]
  }
 ],
 "metadata": {
  "kernelspec": {
   "display_name": "Python 3",
   "language": "python",
   "name": "python3"
  },
  "language_info": {
   "codemirror_mode": {
    "name": "ipython",
    "version": 3
   },
   "file_extension": ".py",
   "mimetype": "text/x-python",
   "name": "python",
   "nbconvert_exporter": "python",
   "pygments_lexer": "ipython3",
   "version": "3.7.6"
  }
 },
 "nbformat": 4,
 "nbformat_minor": 4
}
